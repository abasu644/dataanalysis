{
  "nbformat": 4,
  "nbformat_minor": 0,
  "metadata": {
    "colab": {
      "name": "AIOpsAlertNoiseReduction.ipynb",
      "provenance": [],
      "include_colab_link": true
    },
    "kernelspec": {
      "name": "python3",
      "display_name": "Python 3"
    }
  },
  "cells": [
    {
      "cell_type": "markdown",
      "metadata": {
        "id": "view-in-github",
        "colab_type": "text"
      },
      "source": [
        "<a href=\"https://colab.research.google.com/github/abasu644/dataanalysis/blob/master/AIOpsAlertNoiseReduction.ipynb\" target=\"_parent\"><img src=\"https://colab.research.google.com/assets/colab-badge.svg\" alt=\"Open In Colab\"/></a>"
      ]
    },
    {
      "cell_type": "code",
      "metadata": {
        "id": "3BDe3JwVLB1e",
        "colab_type": "code",
        "colab": {}
      },
      "source": [
        "!pip install https://github.com/abasu644/transformers/archive/master.zip\n",
        "import torch\n",
        "from torch.utils.data import TensorDataset, DataLoader, RandomSampler, SequentialSampler\n",
        "from keras.preprocessing.sequence import pad_sequences\n",
        "from sklearn.model_selection import train_test_split\n",
        "from transformers import BertTokenizer, BertConfig\n",
        "from transformers import AdamW, BertForSequenceClassification ,BertForNextSentencePrediction\n",
        "from tqdm import tqdm, trange\n",
        "import pandas as pd\n",
        "import io\n",
        "import numpy as np\n",
        "import matplotlib.pyplot as plt\n",
        "% matplotlib inline"
      ],
      "execution_count": 0,
      "outputs": []
    },
    {
      "cell_type": "code",
      "metadata": {
        "id": "7qyVB1LaFJXJ",
        "colab_type": "code",
        "colab": {}
      },
      "source": [
        "!git clone https://github.com/abasu644/dataanalysis.git\n",
        "!unzip dataanalysis/data/opis_events_Jan2019_Oct2019_incident.zip\n",
        "filepath=\"OPIS_incident_data.csv\""
      ],
      "execution_count": 0,
      "outputs": []
    }
  ]
}