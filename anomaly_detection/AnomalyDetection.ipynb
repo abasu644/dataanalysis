{
  "nbformat": 4,
  "nbformat_minor": 0,
  "metadata": {
    "colab": {
      "name": "AnomalyDetection.ipynb",
      "provenance": [],
      "include_colab_link": true
    },
    "kernelspec": {
      "name": "python3",
      "display_name": "Python 3"
    }
  },
  "cells": [
    {
      "cell_type": "markdown",
      "metadata": {
        "id": "view-in-github",
        "colab_type": "text"
      },
      "source": [
        "<a href=\"https://colab.research.google.com/github/abasu644/dataanalysis/blob/master/anomaly_detection/AnomalyDetection.ipynb\" target=\"_parent\"><img src=\"https://colab.research.google.com/assets/colab-badge.svg\" alt=\"Open In Colab\"/></a>"
      ]
    },
    {
      "cell_type": "code",
      "metadata": {
        "id": "e8GAE0XimX6J",
        "colab_type": "code",
        "colab": {
          "base_uri": "https://localhost:8080/",
          "height": 187
        },
        "outputId": "6c120fbd-4c3b-4f96-c5f1-1f8e3f210293"
      },
      "source": [
        "!pip install rrcf"
      ],
      "execution_count": 1,
      "outputs": [
        {
          "output_type": "stream",
          "text": [
            "Collecting rrcf\n",
            "  Downloading https://files.pythonhosted.org/packages/d6/0b/48ad961ab5b93631ac07a7130e5fab6f0dd108b9fee802f5f108be4bb71d/rrcf-0.3.2.tar.gz\n",
            "Requirement already satisfied: numpy in /usr/local/lib/python3.6/dist-packages (from rrcf) (1.17.3)\n",
            "Building wheels for collected packages: rrcf\n",
            "  Building wheel for rrcf (setup.py) ... \u001b[?25l\u001b[?25hdone\n",
            "  Created wheel for rrcf: filename=rrcf-0.3.2-cp36-none-any.whl size=8480 sha256=0408cc4dc7a0fd39ab907eb9356bb49b2620def4abd1a719cd944ccc56bedeb9\n",
            "  Stored in directory: /root/.cache/pip/wheels/23/3e/33/6f7a34f592f24d13ea8e87d6082b3a980afdcf5d6fd480597a\n",
            "Successfully built rrcf\n",
            "Installing collected packages: rrcf\n",
            "Successfully installed rrcf-0.3.2\n"
          ],
          "name": "stdout"
        }
      ]
    },
    {
      "cell_type": "code",
      "metadata": {
        "id": "r_3W9zFTnLP1",
        "colab_type": "code",
        "colab": {}
      },
      "source": [
        "import numpy as np\n",
        "import rrcf\n",
        "\n",
        "# Instantiate a random cut tree from a point set (n x d)\n",
        "X = np.random.randn(100, 2)\n",
        "tree = rrcf.RCTree(X)\n",
        "\n",
        "# Instantiate an empty random cut tree\n",
        "tree = rrcf.RCTree()"
      ],
      "execution_count": 0,
      "outputs": []
    },
    {
      "cell_type": "code",
      "metadata": {
        "id": "QL6rUhHZn-oa",
        "colab_type": "code",
        "colab": {
          "base_uri": "https://localhost:8080/",
          "height": 119
        },
        "outputId": "eae5ecc1-f047-49b1-cf3b-23273e31b60e"
      },
      "source": [
        "tree = rrcf.RCTree()\n",
        "\n",
        "for i in range(6):\n",
        "    x = np.random.randn(2)\n",
        "    print(x)\n",
        "    tree.insert_point(x, index=i)"
      ],
      "execution_count": 4,
      "outputs": [
        {
          "output_type": "stream",
          "text": [
            "[ 2.06983189 -0.37476366]\n",
            "[ 1.12150279 -0.86214136]\n",
            "[-1.06399805  0.21494433]\n",
            "[-0.28064411 -0.44435859]\n",
            "[ 0.23625344 -0.04434094]\n",
            "[ 0.13051261 -0.410976  ]\n"
          ],
          "name": "stdout"
        }
      ]
    },
    {
      "cell_type": "code",
      "metadata": {
        "id": "8eiTZqmboBpg",
        "colab_type": "code",
        "colab": {
          "base_uri": "https://localhost:8080/",
          "height": 204
        },
        "outputId": "54e882a7-e29f-478b-c15d-ada34b810cb8"
      },
      "source": [
        "tree"
      ],
      "execution_count": 5,
      "outputs": [
        {
          "output_type": "execute_result",
          "data": {
            "text/plain": [
              "─+\n",
              " ├───+\n",
              " │   ├───+\n",
              " │   │   ├───+\n",
              " │   │   │   ├──(3)\n",
              " │   │   │   └──(5)\n",
              " │   │   └──(1)\n",
              " │   └──(0)\n",
              " └───+\n",
              "     ├──(2)\n",
              "     └──(4)"
            ]
          },
          "metadata": {
            "tags": []
          },
          "execution_count": 5
        }
      ]
    },
    {
      "cell_type": "code",
      "metadata": {
        "id": "TXNmI61QoQa_",
        "colab_type": "code",
        "colab": {
          "base_uri": "https://localhost:8080/",
          "height": 34
        },
        "outputId": "4dec422f-4c8f-4f5b-aa16-7c06b382e0d3"
      },
      "source": [
        "tree.forget_point(2)"
      ],
      "execution_count": 6,
      "outputs": [
        {
          "output_type": "execute_result",
          "data": {
            "text/plain": [
              "Leaf(2)"
            ]
          },
          "metadata": {
            "tags": []
          },
          "execution_count": 6
        }
      ]
    },
    {
      "cell_type": "code",
      "metadata": {
        "id": "vLDVv72EobJR",
        "colab_type": "code",
        "colab": {
          "base_uri": "https://localhost:8080/",
          "height": 170
        },
        "outputId": "068801ba-dff6-4709-cf2c-e46c138b90f5"
      },
      "source": [
        "\n",
        "# Seed tree with zero-mean, normally distributed data\n",
        "X = np.random.randn(100,2)\n",
        "tree = rrcf.RCTree(X)\n",
        "\n",
        "# Generate an inlier and outlier point\n",
        "inlier = np.array([0, 0])\n",
        "outlier = np.array([4, 4])\n",
        "\n",
        "# Insert into tree\n",
        "tree.insert_point(inlier, index='inlier')\n",
        "tree.insert_point(outlier, index='outlier')"
      ],
      "execution_count": 7,
      "outputs": [
        {
          "output_type": "execute_result",
          "data": {
            "text/plain": [
              "─+\n",
              " ├───+\n",
              " │   ├───+\n",
              " │   │   ├───+\n",
              " │   │   │   ├──(3)\n",
              " │   │   │   └──(5)\n",
              " │   │   └──(1)\n",
              " │   └──(0)\n",
              " └──(4)"
            ]
          },
          "metadata": {
            "tags": []
          },
          "execution_count": 7
        }
      ]
    },
    {
      "cell_type": "code",
      "metadata": {
        "id": "RqoElDDEocaL",
        "colab_type": "code",
        "colab": {}
      },
      "source": [
        ""
      ],
      "execution_count": 0,
      "outputs": []
    }
  ]
}