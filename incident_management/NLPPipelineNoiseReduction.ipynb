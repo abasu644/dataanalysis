{
 "cells": [
  {
   "cell_type": "code",
   "execution_count": null,
   "metadata": {},
   "outputs": [],
   "source": [
    "import pandas as pd\n",
    "from spacy import displacy\n",
    "import spacy"
   ]
  },
  {
   "cell_type": "code",
   "execution_count": 100,
   "metadata": {},
   "outputs": [
    {
     "name": "stdout",
     "output_type": "stream",
     "text": [
      "<spacy.matcher.phrasematcher.PhraseMatcher object at 0x7ff81f4812e8>\n"
     ]
    }
   ],
   "source": [
    "import string\n",
    "from spacy.lang.en.stop_words import STOP_WORDS\n",
    "from spacy.lang.en import English\n",
    "import pandas as pd\n",
    "from sklearn.feature_extraction.text import CountVectorizer,TfidfVectorizer\n",
    "from sklearn.base import TransformerMixin\n",
    "from sklearn.pipeline import Pipeline\n",
    "# Create our list of punctuation marks\n",
    "punctuations = string.punctuation\n",
    "import pandas as pd\n",
    "from sklearn.feature_extraction.text import CountVectorizer,TfidfVectorizer\n",
    "from sklearn.base import TransformerMixin\n",
    "from sklearn.pipeline import Pipeline\n",
    "from spacy.matcher import Matcher\n",
    "from spacy.matcher import PhraseMatcher\n",
    "\n",
    "nlp = spacy.load(\"en_core_web_sm\")\n",
    "stop_words = spacy.lang.en.stop_words.STOP_WORDS\n",
    "matcher = PhraseMatcher(nlp.vocab, attr=\"SHAPE\")\n",
    "matcher.add(\"IP\", None, nlp(\"127.0.0.1\"), nlp(\"127.127.0.0\"),nlp(\"10.59.100.122\"))\n",
    "matcherTok = Matcher(nlp.vocab)\n",
    "matcherTok.add(\"URL\",None,[{\"LIKE_URL\": True}])\n",
    "matcherTok.add(\"num\", None, [{\"LIKE_NUM\": True}])\n",
    "matcherTok.add(\"endPat\", None, [{\"TEXT\": {\"REGEX\": \"%%%$\"}}])\n",
    "#matcherTok.add(\"amp\", None, [{\"TEXT\": {\"REGEX\": \"[.]*[&\\?#%][.]*\"}}])\n",
    "matcherTok.add(\"numb\", None, [{\"TEXT\": {\"REGEX\": \"[.]*[0-9\\?\\[\\{\\(\\)][.]*\"}}])\n",
    "#matcherTok.add(\"escape\", None, [{\"TEXT\": {\"REGEX\": \"(\\x9B|\\x1B\\[)[0-?]*[ -\\/]*[@-~]\"}}])\n",
    "\n",
    "print(matcher)\n",
    "def custom_tokenizer(sentence):\n",
    "    #print(sentence)\n",
    "    rm_tk=[]\n",
    "    # Get the IP\n",
    "    doc = nlp(sentence)\n",
    "    for match_id, start, end in matcher(doc):\n",
    "        rm_tk.append(doc[start:end].text)\n",
    "    for match_id, start, end in matcherTok(doc):\n",
    "        rm_tk.append(doc[start:end].text)\n",
    "    #print(rm_tk)\n",
    "    tklp=[]\n",
    "    tkl=[]\n",
    "    for tk in doc:\n",
    "        if tk.dep_=='punct':\n",
    "            continue\n",
    "        elif tk.text.lower() in ['spendhq', '-', 'triggered',' ','edit','view']:\n",
    "            continue\n",
    "        else:\n",
    "            tkl.append(tk.text)\n",
    "            tklp.append(tk.dep_)\n",
    "    # Removing stop words\n",
    "    mytokens = [ word for word in tkl if word not in stop_words and word not in punctuations ]\n",
    "    mytokens=[ x for x in mytokens if x  not in rm_tk ]\n",
    "#    print(mytokens)\n",
    "    return mytokens\n"
   ]
  },
  {
   "cell_type": "code",
   "execution_count": 101,
   "metadata": {},
   "outputs": [],
   "source": [
    "from sklearn.model_selection import train_test_split\n",
    "import numpy as np\n",
    "def incidentFlag(ic):\n",
    "    #print(ic)\n",
    "    if type(ic) == float and np.isnan(ic):\n",
    "        return 0\n",
    "    else:\n",
    "        return 1"
   ]
  },
  {
   "cell_type": "code",
   "execution_count": 102,
   "metadata": {},
   "outputs": [],
   "source": [
    "# Custom transformer using spaCy\n",
    "class Shredder(TransformerMixin):\n",
    "    def transform(self, X, **transform_params):\n",
    "        # Cleaning Text\n",
    "        return [clean_text(text) for text in X]\n",
    "\n",
    "    def fit(self, X, y=None, **fit_params):\n",
    "        return self\n",
    "\n",
    "    def get_params(self, deep=True):\n",
    "        return {}\n",
    "    \n",
    "    # Basic function to clean the text\n",
    "def clean_text(text):\n",
    "    # Removing spaces and converting text into lowercase\n",
    "    return text.strip().lower()\n",
    "\n"
   ]
  },
  {
   "cell_type": "code",
   "execution_count": 115,
   "metadata": {},
   "outputs": [
    {
     "name": "stdout",
     "output_type": "stream",
     "text": [
      "(242,)\n",
      "Logistic Regression Accuracy: 0.9710743801652892\n",
      "Logistic Regression Precision: 0.3\n",
      "Logistic Regression Recall: 1.0\n"
     ]
    }
   ],
   "source": [
    "from sklearn import metrics\n",
    "from sklearn.ensemble import RandomForestClassifier\n",
    "from sklearn.linear_model import LogisticRegression\n",
    "\n",
    "df=pd.read_csv(\"jurismitaOneDrive_1_10-30-2019/datadog_spenhq_deduplicated_23incident.csv\")\n",
    "df=df.sort_values(by='date_happened') \n",
    "df['final'] = df.apply(lambda x: str(x['title'])+ \" \"+ str(x['text']+ \" \"+ str(x['tags'])),axis=1) # the features we want to analyze\n",
    "X = df['final']\n",
    "ylabels = df['case_id'].apply(lambda x : incidentFlag(x) )# the labels, or answers, we want to test against\n",
    "X_train, X_test, y_train, y_test = train_test_split(X, ylabels, test_size=0.3,shuffle=False)\n",
    "\n",
    "# Logistic Regression Classifier\n",
    "classifier= RandomForestClassifier(n_estimators=100, max_depth=5,random_state=0)\n",
    "bow_vector = CountVectorizer(tokenizer = custom_tokenizer, ngram_range=(1,1))\n",
    "\n",
    "\n",
    "# Create pipeline using Bag of Words\n",
    "pipe = Pipeline([(\"cleaner\", Shredder()),\n",
    "                 ('vectorizer', bow_vector),\n",
    "                 ('classifier', classifier)])\n",
    "\n",
    "# model generation\n",
    "pipe.fit(X_train,y_train)\n",
    "\n",
    "# Predicting with a test dataset\n",
    "predicted = pipe.predict(X_test)\n",
    "print(X_test.shape)\n",
    "# Model Accuracy\n",
    "print(\"Logistic Regression Accuracy:\",metrics.accuracy_score(y_test, predicted))\n",
    "print(\"Logistic Regression Precision:\",metrics.precision_score(y_test, predicted))\n",
    "print(\"Logistic Regression Recall:\",metrics.recall_score(y_test, predicted))"
   ]
  },
  {
   "cell_type": "code",
   "execution_count": 118,
   "metadata": {},
   "outputs": [
    {
     "name": "stdout",
     "output_type": "stream",
     "text": [
      "3 242 10\n"
     ]
    },
    {
     "data": {
      "text/html": [
       "<div>\n",
       "<style scoped>\n",
       "    .dataframe tbody tr th:only-of-type {\n",
       "        vertical-align: middle;\n",
       "    }\n",
       "\n",
       "    .dataframe tbody tr th {\n",
       "        vertical-align: top;\n",
       "    }\n",
       "\n",
       "    .dataframe thead th {\n",
       "        text-align: right;\n",
       "    }\n",
       "</style>\n",
       "<table border=\"1\" class=\"dataframe\">\n",
       "  <thead>\n",
       "    <tr style=\"text-align: right;\">\n",
       "      <th></th>\n",
       "      <th>y</th>\n",
       "      <th>y_hat</th>\n",
       "    </tr>\n",
       "  </thead>\n",
       "  <tbody>\n",
       "    <tr>\n",
       "      <th>69</th>\n",
       "      <td>1</td>\n",
       "      <td>1</td>\n",
       "    </tr>\n",
       "    <tr>\n",
       "      <th>70</th>\n",
       "      <td>0</td>\n",
       "      <td>1</td>\n",
       "    </tr>\n",
       "    <tr>\n",
       "      <th>76</th>\n",
       "      <td>0</td>\n",
       "      <td>1</td>\n",
       "    </tr>\n",
       "    <tr>\n",
       "      <th>77</th>\n",
       "      <td>1</td>\n",
       "      <td>1</td>\n",
       "    </tr>\n",
       "    <tr>\n",
       "      <th>78</th>\n",
       "      <td>1</td>\n",
       "      <td>1</td>\n",
       "    </tr>\n",
       "    <tr>\n",
       "      <th>214</th>\n",
       "      <td>0</td>\n",
       "      <td>1</td>\n",
       "    </tr>\n",
       "    <tr>\n",
       "      <th>216</th>\n",
       "      <td>0</td>\n",
       "      <td>1</td>\n",
       "    </tr>\n",
       "    <tr>\n",
       "      <th>221</th>\n",
       "      <td>0</td>\n",
       "      <td>1</td>\n",
       "    </tr>\n",
       "    <tr>\n",
       "      <th>223</th>\n",
       "      <td>0</td>\n",
       "      <td>1</td>\n",
       "    </tr>\n",
       "    <tr>\n",
       "      <th>224</th>\n",
       "      <td>0</td>\n",
       "      <td>1</td>\n",
       "    </tr>\n",
       "  </tbody>\n",
       "</table>\n",
       "</div>"
      ],
      "text/plain": [
       "     y  y_hat\n",
       "69   1      1\n",
       "70   0      1\n",
       "76   0      1\n",
       "77   1      1\n",
       "78   1      1\n",
       "214  0      1\n",
       "216  0      1\n",
       "221  0      1\n",
       "223  0      1\n",
       "224  0      1"
      ]
     },
     "execution_count": 118,
     "metadata": {},
     "output_type": "execute_result"
    }
   ],
   "source": [
    "print(sum(y_test),len(y_test),sum(predicted))\n",
    "a=pd.DataFrame(list(zip(y_test, predicted)),columns=['y','y_hat'])\n",
    "a[(a.y_hat==1)]\n"
   ]
  },
  {
   "cell_type": "code",
   "execution_count": 120,
   "metadata": {},
   "outputs": [
    {
     "data": {
      "text/plain": [
       "0.4615384615384615"
      ]
     },
     "execution_count": 120,
     "metadata": {},
     "output_type": "execute_result"
    }
   ],
   "source": [
    "metrics.f1_score(y_test, predicted)"
   ]
  },
  {
   "cell_type": "raw",
   "metadata": {},
   "source": []
  },
  {
   "cell_type": "code",
   "execution_count": 122,
   "metadata": {},
   "outputs": [
    {
     "data": {
      "text/plain": [
       "(806, 167)"
      ]
     },
     "execution_count": 122,
     "metadata": {},
     "output_type": "execute_result"
    }
   ],
   "source": [
    "df.shape"
   ]
  },
  {
   "cell_type": "code",
   "execution_count": null,
   "metadata": {},
   "outputs": [],
   "source": []
  }
 ],
 "metadata": {
  "kernelspec": {
   "display_name": "Python 3",
   "language": "python",
   "name": "python3"
  },
  "language_info": {
   "codemirror_mode": {
    "name": "ipython",
    "version": 3
   },
   "file_extension": ".py",
   "mimetype": "text/x-python",
   "name": "python",
   "nbconvert_exporter": "python",
   "pygments_lexer": "ipython3",
   "version": "3.5.2"
  }
 },
 "nbformat": 4,
 "nbformat_minor": 2
}
