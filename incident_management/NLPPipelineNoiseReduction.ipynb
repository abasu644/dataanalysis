{
  "nbformat": 4,
  "nbformat_minor": 0,
  "metadata": {
    "kernelspec": {
      "display_name": "Python 3",
      "language": "python",
      "name": "python3"
    },
    "language_info": {
      "codemirror_mode": {
        "name": "ipython",
        "version": 3
      },
      "file_extension": ".py",
      "mimetype": "text/x-python",
      "name": "python",
      "nbconvert_exporter": "python",
      "pygments_lexer": "ipython3",
      "version": "3.5.2"
    },
    "colab": {
      "name": "NLPPipelineNoiseReduction.ipynb",
      "provenance": []
    }
  },
  "cells": [
    {
      "cell_type": "code",
      "metadata": {
        "id": "UQ9e9tFZwTX-",
        "colab_type": "code",
        "colab": {}
      },
      "source": [
        "import pandas as pd\n",
        "from spacy import displacy\n",
        "import spacy"
      ],
      "execution_count": 0,
      "outputs": []
    },
    {
      "cell_type": "code",
      "metadata": {
        "id": "inD2Zzmrzo2X",
        "colab_type": "code",
        "colab": {
          "base_uri": "https://localhost:8080/",
          "height": 34
        },
        "outputId": "8f4ef81b-e3b7-458a-d45c-10c48c417e57"
      },
      "source": [
        "!git clone https://github.com/abasu644/dataanalysis.git"
      ],
      "execution_count": 2,
      "outputs": [
        {
          "output_type": "stream",
          "text": [
            "fatal: destination path 'dataanalysis' already exists and is not an empty directory.\n"
          ],
          "name": "stdout"
        }
      ]
    },
    {
      "cell_type": "code",
      "metadata": {
        "id": "kftvNeZRwTYL",
        "colab_type": "code",
        "colab": {}
      },
      "source": [
        "import string\n",
        "from spacy.lang.en.stop_words import STOP_WORDS\n",
        "from spacy.lang.en import English\n",
        "import pandas as pd\n",
        "from sklearn.feature_extraction.text import CountVectorizer,TfidfVectorizer\n",
        "from sklearn.base import TransformerMixin\n",
        "from sklearn.pipeline import Pipeline\n",
        "# Create our list of punctuation marks\n",
        "punctuations = string.punctuation\n",
        "import pandas as pd\n",
        "from sklearn.feature_extraction.text import CountVectorizer,TfidfVectorizer\n",
        "from sklearn.base import TransformerMixin\n",
        "from sklearn.pipeline import Pipeline\n",
        "from spacy.matcher import Matcher\n",
        "from spacy.matcher import PhraseMatcher\n",
        "from sklearn.model_selection import train_test_split\n",
        "import numpy as np\n",
        "def incidentFlag(ic):\n",
        "    #print(ic)\n",
        "    if type(ic) == float and np.isnan(ic):\n",
        "        return 0\n",
        "    else:\n",
        "        return 1\n",
        "\n",
        "def clean_text(text):\n",
        "    # Removing spaces and converting text into lowercase\n",
        "    return text.strip().lower()\n"
      ],
      "execution_count": 0,
      "outputs": []
    },
    {
      "cell_type": "code",
      "metadata": {
        "id": "CEhx8IcQwTYh",
        "colab_type": "code",
        "colab": {}
      },
      "source": [
        "\n",
        "# Custom transformer using spaCy\n",
        "class AIOpsTextTransformer(TransformerMixin):\n",
        "     \n",
        "    def transform(self, X, **transform_params):\n",
        "        # Cleaning Text\n",
        "        X=[clean_text(text) for text in X]\n",
        "        nlp = spacy.load(\"en_core_web_sm\")\n",
        "        stop_words = spacy.lang.en.stop_words.STOP_WORDS\n",
        "        matcher = PhraseMatcher(nlp.vocab, attr=\"SHAPE\")\n",
        "        matcher.add(\"IP\", None, nlp(\"127.0.0.1\"), nlp(\"127.127.0.0\"),nlp(\"10.59.100.122\"))\n",
        "        matcherTok = Matcher(nlp.vocab)\n",
        "        matcherTok.add(\"URL\",None,[{\"LIKE_URL\": True}])\n",
        "        matcherTok.add(\"num\", None, [{\"LIKE_NUM\": True}])\n",
        "        matcherTok.add(\"endPat\", None, [{\"TEXT\": {\"REGEX\": \"%%%$\"}}])\n",
        "        #matcherTok.add(\"amp\", None, [{\"TEXT\": {\"REGEX\": \"[.]*[&!][.]*\"}}])\n",
        "        matcherTok.add(\"numb\", None, [{\"TEXT\": {\"REGEX\": \"[.]*[0-9\\?\\[\\{\\(\\)][.]*\"}}])\n",
        "        #matcherTok.add(\"escape\", None, [{\"TEXT\": {\"REGEX\": \"(\\x9B|\\x1B\\[)[0-?]*[ -\\/]*[@-~]\"}}])\n",
        "        def custom_tokenizer(sentence):\n",
        "          #print(sentence)\n",
        "          rm_tk=[]\n",
        "          # Get the IP\n",
        "          doc = nlp(sentence)\n",
        "          for match_id, start, end in matcher(doc):\n",
        "              rm_tk.append(doc[start:end].text)\n",
        "          for match_id, start, end in matcherTok(doc):\n",
        "              rm_tk.append(doc[start:end].text)\n",
        "          #print(rm_tk)\n",
        "          tklp=[]\n",
        "          tkl=[]\n",
        "          for tk in doc:\n",
        "              if tk.dep_=='punct':\n",
        "                  continue\n",
        "              elif tk.text.lower() in ['spendhq', '-', 'triggered',' ','edit','view']:\n",
        "                  continue\n",
        "              else:\n",
        "                  tkl.append(tk.text)\n",
        "                  tklp.append(tk.dep_)\n",
        "          # Removing stop words\n",
        "          mytokens = [ word for word in tkl if word not in stop_words and word not in punctuations ]\n",
        "          mytokens=[ x for x in mytokens if x  not in rm_tk ]\n",
        "          return mytokens\n",
        "        finalStr=[]\n",
        "        for row in X:\n",
        "          finalStr.append(\" \".join(custom_tokenizer(row)))\n",
        "        return finalStr\n",
        "\n",
        "    def fit(self, X, y=None, **fit_params):\n",
        "        return self\n",
        "\n",
        "    def get_params(self, deep=True):\n",
        "        return {}\n",
        "    \n",
        "    \n",
        "\n"
      ],
      "execution_count": 0,
      "outputs": []
    },
    {
      "cell_type": "code",
      "metadata": {
        "id": "sOWaKYdQziK7",
        "colab_type": "code",
        "colab": {}
      },
      "source": [
        "from sklearn import metrics\n",
        "from sklearn.ensemble import RandomForestClassifier\n",
        "from sklearn.linear_model import LogisticRegression\n",
        "\n",
        "df=pd.read_csv(\"dataanalysis/data/datadog_spenhq_deduplicated_23incident.csv\")\n",
        "df=df.sort_values(by='date_happened') \n",
        "df['final'] = df.apply(lambda x: str(x['title'])+ \" \"+ str(x['text']+ \" \"+ str(x['tags'])),axis=1) # the features we want to analyze\n",
        "X = df['final']\n",
        "ylabels = df['case_id'].apply(lambda x : incidentFlag(x) )# the labels, or answers, we want to test against\n",
        "X_train, X_test, y_train, y_test = train_test_split(X, ylabels, test_size=0.3,shuffle=False)\n",
        "dataset={'train':(X_train,y_train),'test':(X_test,y_test)}\n",
        "import pickle\n",
        "with open('spendhq.data.pickle', 'wb') as output:\n",
        "    pickle.dump(dataset, output)"
      ],
      "execution_count": 0,
      "outputs": []
    },
    {
      "cell_type": "code",
      "metadata": {
        "id": "x6qW-T07wTYm",
        "colab_type": "code",
        "colab": {
          "base_uri": "https://localhost:8080/",
          "height": 85
        },
        "outputId": "c9091f7f-2b3b-47e7-b108-fcf2e726cc57"
      },
      "source": [
        "from sklearn import metrics\n",
        "from sklearn.ensemble import RandomForestClassifier\n",
        "from sklearn.linear_model import LogisticRegression\n",
        "\n",
        "import pickle\n",
        "\n",
        "with open('spendhq.data.pickle', 'rb') as data:\n",
        "    dataset = pickle.load(data)\n",
        "\n",
        "X_train=dataset['train'][0]\n",
        "y_train=dataset['train'][1]\n",
        "\n",
        "X_test=dataset['test'][0]\n",
        "y_test=dataset['test'][1]\n",
        "import spacy\n",
        "nlp = spacy.load('en_core_web_sm', disable=['ner', 'parser', 'tagger'])\n",
        "\n",
        "def spacy_tokenizer(doc):\n",
        "    return [x.orth_ for x in nlp(doc)]\n",
        "\n",
        "classifier= RandomForestClassifier(n_estimators=100, max_depth=5,random_state=0)\n",
        "bow_vector = CountVectorizer( tokenizer=spacy_tokenizer,ngram_range=(1,1))\n",
        "# Create pipeline using Bag of Words\n",
        "pipe = Pipeline([\n",
        "                 (\"aiops\", AIOpsTextTransformer()),\n",
        "                 ('vectorizer', bow_vector),\n",
        "                 ('classifier', classifier)])\n",
        "\n",
        "# model generation\n",
        "pipe.fit(X_train,y_train)\n",
        "\n",
        "# Predicting with a test dataset\n",
        "predicted = pipe.predict(X_test)\n",
        "print(X_test.shape)\n",
        "# Model Accuracy\n",
        "print(\"RandomForest Regression Accuracy:\",metrics.accuracy_score(y_test, predicted))\n",
        "print(\"RandomForest Regression Precision:\",metrics.precision_score(y_test, predicted))\n",
        "print(\"RandomForest Regression Recall:\",metrics.recall_score(y_test, predicted))"
      ],
      "execution_count": 22,
      "outputs": [
        {
          "output_type": "stream",
          "text": [
            "(242,)\n",
            "Logistic Regression Accuracy: 0.9752066115702479\n",
            "Logistic Regression Precision: 0.3333333333333333\n",
            "Logistic Regression Recall: 1.0\n"
          ],
          "name": "stdout"
        }
      ]
    },
    {
      "cell_type": "code",
      "metadata": {
        "id": "QA9ww2s_wTYt",
        "colab_type": "code",
        "colab": {
          "base_uri": "https://localhost:8080/",
          "height": 345
        },
        "outputId": "da7febdd-32d9-44ce-8c0d-5802c812e662"
      },
      "source": [
        "print(sum(y_test),len(y_test),sum(predicted))\n",
        "a=pd.DataFrame(list(zip(y_test, predicted)),columns=['y','y_hat'])\n",
        "a[(a.y_hat==1)]\n"
      ],
      "execution_count": 23,
      "outputs": [
        {
          "output_type": "stream",
          "text": [
            "3 242 9\n"
          ],
          "name": "stdout"
        },
        {
          "output_type": "execute_result",
          "data": {
            "text/html": [
              "<div>\n",
              "<style scoped>\n",
              "    .dataframe tbody tr th:only-of-type {\n",
              "        vertical-align: middle;\n",
              "    }\n",
              "\n",
              "    .dataframe tbody tr th {\n",
              "        vertical-align: top;\n",
              "    }\n",
              "\n",
              "    .dataframe thead th {\n",
              "        text-align: right;\n",
              "    }\n",
              "</style>\n",
              "<table border=\"1\" class=\"dataframe\">\n",
              "  <thead>\n",
              "    <tr style=\"text-align: right;\">\n",
              "      <th></th>\n",
              "      <th>y</th>\n",
              "      <th>y_hat</th>\n",
              "    </tr>\n",
              "  </thead>\n",
              "  <tbody>\n",
              "    <tr>\n",
              "      <th>69</th>\n",
              "      <td>1</td>\n",
              "      <td>1</td>\n",
              "    </tr>\n",
              "    <tr>\n",
              "      <th>70</th>\n",
              "      <td>0</td>\n",
              "      <td>1</td>\n",
              "    </tr>\n",
              "    <tr>\n",
              "      <th>76</th>\n",
              "      <td>0</td>\n",
              "      <td>1</td>\n",
              "    </tr>\n",
              "    <tr>\n",
              "      <th>77</th>\n",
              "      <td>1</td>\n",
              "      <td>1</td>\n",
              "    </tr>\n",
              "    <tr>\n",
              "      <th>78</th>\n",
              "      <td>1</td>\n",
              "      <td>1</td>\n",
              "    </tr>\n",
              "    <tr>\n",
              "      <th>214</th>\n",
              "      <td>0</td>\n",
              "      <td>1</td>\n",
              "    </tr>\n",
              "    <tr>\n",
              "      <th>216</th>\n",
              "      <td>0</td>\n",
              "      <td>1</td>\n",
              "    </tr>\n",
              "    <tr>\n",
              "      <th>223</th>\n",
              "      <td>0</td>\n",
              "      <td>1</td>\n",
              "    </tr>\n",
              "    <tr>\n",
              "      <th>224</th>\n",
              "      <td>0</td>\n",
              "      <td>1</td>\n",
              "    </tr>\n",
              "  </tbody>\n",
              "</table>\n",
              "</div>"
            ],
            "text/plain": [
              "     y  y_hat\n",
              "69   1      1\n",
              "70   0      1\n",
              "76   0      1\n",
              "77   1      1\n",
              "78   1      1\n",
              "214  0      1\n",
              "216  0      1\n",
              "223  0      1\n",
              "224  0      1"
            ]
          },
          "metadata": {
            "tags": []
          },
          "execution_count": 23
        }
      ]
    },
    {
      "cell_type": "code",
      "metadata": {
        "id": "NEL-gF2lwTY0",
        "colab_type": "code",
        "colab": {}
      },
      "source": [
        "metrics.f1_score(y_test, predicted)"
      ],
      "execution_count": 0,
      "outputs": []
    },
    {
      "cell_type": "markdown",
      "metadata": {
        "id": "WXKkFuYrwTY7",
        "colab_type": "raw"
      },
      "source": [
        ""
      ]
    },
    {
      "cell_type": "code",
      "metadata": {
        "id": "7QaXw44RwTY9",
        "colab_type": "code",
        "colab": {}
      },
      "source": [
        "df.shape"
      ],
      "execution_count": 0,
      "outputs": []
    },
    {
      "cell_type": "code",
      "metadata": {
        "id": "s93lF5-SwTZD",
        "colab_type": "code",
        "colab": {}
      },
      "source": [
        ""
      ],
      "execution_count": 0,
      "outputs": []
    }
  ]
}