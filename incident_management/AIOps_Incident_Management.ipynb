{
  "nbformat": 4,
  "nbformat_minor": 0,
  "metadata": {
    "colab": {
      "name": "AIOps Incident Management.ipynb",
      "provenance": [],
      "collapsed_sections": [],
      "toc_visible": true,
      "include_colab_link": true
    },
    "kernelspec": {
      "name": "python3",
      "display_name": "Python 3"
    },
    "accelerator": "GPU"
  },
  "cells": [
    {
      "cell_type": "markdown",
      "metadata": {
        "id": "view-in-github",
        "colab_type": "text"
      },
      "source": [
        "<a href=\"https://colab.research.google.com/github/abasu644/dataanalysis/blob/master/incident_management/AIOps_Incident_Management.ipynb\" target=\"_parent\"><img src=\"https://colab.research.google.com/assets/colab-badge.svg\" alt=\"Open In Colab\"/></a>"
      ]
    },
    {
      "cell_type": "markdown",
      "metadata": {
        "id": "jNKaJz5j_ylj",
        "colab_type": "text"
      },
      "source": [
        "# Notes"
      ]
    },
    {
      "cell_type": "markdown",
      "metadata": {
        "id": "BJR6t_gCQe_x",
        "colab_type": "text"
      },
      "source": [
        ""
      ]
    },
    {
      "cell_type": "markdown",
      "metadata": {
        "id": "RX_ZDhicpHkV",
        "colab_type": "text"
      },
      "source": [
        "### Install and Import"
      ]
    },
    {
      "cell_type": "code",
      "metadata": {
        "id": "DEfSbAA4QHas",
        "colab_type": "code",
        "outputId": "c083bc20-4d50-4120-a0c1-ace312b97ead",
        "colab": {
          "base_uri": "https://localhost:8080/",
          "height": 97
        }
      },
      "source": [
        "import tensorflow as tf\n",
        "\n",
        "print(\"Importing packages\")\n",
        "device_name = tf.test.gpu_device_name()\n",
        "if device_name != '/device:GPU:0':\n",
        "  raise SystemError('GPU device not found')\n",
        "print('Found GPU at: {}'.format(device_name))"
      ],
      "execution_count": 1,
      "outputs": [
        {
          "output_type": "display_data",
          "data": {
            "text/html": [
              "<p style=\"color: red;\">\n",
              "The default version of TensorFlow in Colab will soon switch to TensorFlow 2.x.<br>\n",
              "We recommend you <a href=\"https://www.tensorflow.org/guide/migrate\" target=\"_blank\">upgrade</a> now \n",
              "or ensure your notebook will continue to use TensorFlow 1.x via the <code>%tensorflow_version 1.x</code> magic:\n",
              "<a href=\"https://colab.research.google.com/notebooks/tensorflow_version.ipynb\" target=\"_blank\">more info</a>.</p>\n"
            ],
            "text/plain": [
              "<IPython.core.display.HTML object>"
            ]
          },
          "metadata": {
            "tags": []
          }
        },
        {
          "output_type": "stream",
          "text": [
            "Importing packages\n",
            "Found GPU at: /device:GPU:0\n"
          ],
          "name": "stdout"
        }
      ]
    },
    {
      "cell_type": "code",
      "metadata": {
        "id": "0NmMdkZO8R6q",
        "colab_type": "code",
        "outputId": "cb083f8a-9ada-45ab-b2b0-5a7a67c1ec08",
        "colab": {
          "base_uri": "https://localhost:8080/",
          "height": 955
        }
      },
      "source": [
        "!pip install https://github.com/abasu644/transformers/archive/master.zip\n",
        "!pip  install pytorch-nlp"
      ],
      "execution_count": 2,
      "outputs": [
        {
          "output_type": "stream",
          "text": [
            "Collecting https://github.com/abasu644/transformers/archive/master.zip\n",
            "\u001b[?25l  Downloading https://github.com/abasu644/transformers/archive/master.zip\n",
            "\u001b[K     | 4.7MB 16.8MB/s\n",
            "\u001b[?25hRequirement already satisfied: numpy in /usr/local/lib/python3.6/dist-packages (from transformers==2.1.1) (1.17.3)\n",
            "Requirement already satisfied: boto3 in /usr/local/lib/python3.6/dist-packages (from transformers==2.1.1) (1.9.253)\n",
            "Requirement already satisfied: requests in /usr/local/lib/python3.6/dist-packages (from transformers==2.1.1) (2.21.0)\n",
            "Requirement already satisfied: tqdm in /usr/local/lib/python3.6/dist-packages (from transformers==2.1.1) (4.28.1)\n",
            "Collecting regex\n",
            "\u001b[?25l  Downloading https://files.pythonhosted.org/packages/ff/60/d9782c56ceefa76033a00e1f84cd8c586c75e6e7fea2cd45ee8b46a386c5/regex-2019.08.19-cp36-cp36m-manylinux1_x86_64.whl (643kB)\n",
            "\u001b[K     |████████████████████████████████| 645kB 5.0MB/s \n",
            "\u001b[?25hCollecting sentencepiece\n",
            "\u001b[?25l  Downloading https://files.pythonhosted.org/packages/14/3d/efb655a670b98f62ec32d66954e1109f403db4d937c50d779a75b9763a29/sentencepiece-0.1.83-cp36-cp36m-manylinux1_x86_64.whl (1.0MB)\n",
            "\u001b[K     |████████████████████████████████| 1.0MB 51.3MB/s \n",
            "\u001b[?25hCollecting sacremoses\n",
            "\u001b[?25l  Downloading https://files.pythonhosted.org/packages/1f/8e/ed5364a06a9ba720fddd9820155cc57300d28f5f43a6fd7b7e817177e642/sacremoses-0.0.35.tar.gz (859kB)\n",
            "\u001b[K     |████████████████████████████████| 860kB 50.8MB/s \n",
            "\u001b[?25hRequirement already satisfied: s3transfer<0.3.0,>=0.2.0 in /usr/local/lib/python3.6/dist-packages (from boto3->transformers==2.1.1) (0.2.1)\n",
            "Requirement already satisfied: jmespath<1.0.0,>=0.7.1 in /usr/local/lib/python3.6/dist-packages (from boto3->transformers==2.1.1) (0.9.4)\n",
            "Requirement already satisfied: botocore<1.13.0,>=1.12.253 in /usr/local/lib/python3.6/dist-packages (from boto3->transformers==2.1.1) (1.12.253)\n",
            "Requirement already satisfied: chardet<3.1.0,>=3.0.2 in /usr/local/lib/python3.6/dist-packages (from requests->transformers==2.1.1) (3.0.4)\n",
            "Requirement already satisfied: idna<2.9,>=2.5 in /usr/local/lib/python3.6/dist-packages (from requests->transformers==2.1.1) (2.8)\n",
            "Requirement already satisfied: urllib3<1.25,>=1.21.1 in /usr/local/lib/python3.6/dist-packages (from requests->transformers==2.1.1) (1.24.3)\n",
            "Requirement already satisfied: certifi>=2017.4.17 in /usr/local/lib/python3.6/dist-packages (from requests->transformers==2.1.1) (2019.9.11)\n",
            "Requirement already satisfied: six in /usr/local/lib/python3.6/dist-packages (from sacremoses->transformers==2.1.1) (1.12.0)\n",
            "Requirement already satisfied: click in /usr/local/lib/python3.6/dist-packages (from sacremoses->transformers==2.1.1) (7.0)\n",
            "Requirement already satisfied: joblib in /usr/local/lib/python3.6/dist-packages (from sacremoses->transformers==2.1.1) (0.14.0)\n",
            "Requirement already satisfied: python-dateutil<3.0.0,>=2.1; python_version >= \"2.7\" in /usr/local/lib/python3.6/dist-packages (from botocore<1.13.0,>=1.12.253->boto3->transformers==2.1.1) (2.6.1)\n",
            "Requirement already satisfied: docutils<0.16,>=0.10 in /usr/local/lib/python3.6/dist-packages (from botocore<1.13.0,>=1.12.253->boto3->transformers==2.1.1) (0.15.2)\n",
            "Building wheels for collected packages: transformers, sacremoses\n",
            "  Building wheel for transformers (setup.py) ... \u001b[?25l\u001b[?25hdone\n",
            "  Created wheel for transformers: filename=transformers-2.1.1-cp36-none-any.whl size=312921 sha256=ea756432ed58333b2faf126ae91f2449b51776bc3059f56a4b7cb83179858966\n",
            "  Stored in directory: /tmp/pip-ephem-wheel-cache-zsdm8vsd/wheels/84/c1/bb/9eabb2cdf1c1310b2c9b19bc5443784d13476c0dd8f3e54475\n",
            "  Building wheel for sacremoses (setup.py) ... \u001b[?25l\u001b[?25hdone\n",
            "  Created wheel for sacremoses: filename=sacremoses-0.0.35-cp36-none-any.whl size=883999 sha256=a63252d459cec7d73a1ebf35d5fd5ca9cc1d18b116fb8c3b1ff95d1ed960e24c\n",
            "  Stored in directory: /root/.cache/pip/wheels/63/2a/db/63e2909042c634ef551d0d9ac825b2b0b32dede4a6d87ddc94\n",
            "Successfully built transformers sacremoses\n",
            "Installing collected packages: regex, sentencepiece, sacremoses, transformers\n",
            "Successfully installed regex-2019.8.19 sacremoses-0.0.35 sentencepiece-0.1.83 transformers-2.1.1\n",
            "Collecting pytorch-nlp\n",
            "\u001b[?25l  Downloading https://files.pythonhosted.org/packages/df/ae/b6d18c3f37da5a78e83701469e6153811f4b0ecb3f9387bb3e9a65ca48ee/pytorch_nlp-0.4.1-py3-none-any.whl (82kB)\n",
            "\u001b[K     |████████████████████████████████| 92kB 4.4MB/s \n",
            "\u001b[?25hRequirement already satisfied: pandas in /usr/local/lib/python3.6/dist-packages (from pytorch-nlp) (0.25.2)\n",
            "Requirement already satisfied: requests in /usr/local/lib/python3.6/dist-packages (from pytorch-nlp) (2.21.0)\n",
            "Requirement already satisfied: tqdm in /usr/local/lib/python3.6/dist-packages (from pytorch-nlp) (4.28.1)\n",
            "Requirement already satisfied: numpy in /usr/local/lib/python3.6/dist-packages (from pytorch-nlp) (1.17.3)\n",
            "Requirement already satisfied: python-dateutil>=2.6.1 in /usr/local/lib/python3.6/dist-packages (from pandas->pytorch-nlp) (2.6.1)\n",
            "Requirement already satisfied: pytz>=2017.2 in /usr/local/lib/python3.6/dist-packages (from pandas->pytorch-nlp) (2018.9)\n",
            "Requirement already satisfied: idna<2.9,>=2.5 in /usr/local/lib/python3.6/dist-packages (from requests->pytorch-nlp) (2.8)\n",
            "Requirement already satisfied: chardet<3.1.0,>=3.0.2 in /usr/local/lib/python3.6/dist-packages (from requests->pytorch-nlp) (3.0.4)\n",
            "Requirement already satisfied: certifi>=2017.4.17 in /usr/local/lib/python3.6/dist-packages (from requests->pytorch-nlp) (2019.9.11)\n",
            "Requirement already satisfied: urllib3<1.25,>=1.21.1 in /usr/local/lib/python3.6/dist-packages (from requests->pytorch-nlp) (1.24.3)\n",
            "Requirement already satisfied: six>=1.5 in /usr/local/lib/python3.6/dist-packages (from python-dateutil>=2.6.1->pandas->pytorch-nlp) (1.12.0)\n",
            "Installing collected packages: pytorch-nlp\n",
            "Successfully installed pytorch-nlp-0.4.1\n"
          ],
          "name": "stdout"
        }
      ]
    },
    {
      "cell_type": "code",
      "metadata": {
        "id": "Ok002ceNB8E7",
        "colab_type": "code",
        "colab": {
          "base_uri": "https://localhost:8080/",
          "height": 34
        },
        "outputId": "f538bceb-87ad-412a-eda1-e49183eab6e2"
      },
      "source": [
        "import torch\n",
        "from torch.utils.data import TensorDataset, DataLoader, RandomSampler, SequentialSampler\n",
        "from keras.preprocessing.sequence import pad_sequences\n",
        "from sklearn.model_selection import train_test_split\n",
        "from transformers import BertTokenizer, BertConfig\n",
        "from transformers import AdamW, BertForSequenceClassification ,BertForNextSentencePrediction\n",
        "from tqdm import tqdm, trange\n",
        "import pandas as pd\n",
        "import io\n",
        "import numpy as np\n",
        "import matplotlib.pyplot as plt\n",
        "% matplotlib inline"
      ],
      "execution_count": 3,
      "outputs": [
        {
          "output_type": "stream",
          "text": [
            "Using TensorFlow backend.\n"
          ],
          "name": "stderr"
        }
      ]
    },
    {
      "cell_type": "markdown",
      "metadata": {
        "id": "cqG7FzRVFEIv",
        "colab_type": "text"
      },
      "source": [
        "In order for torch to use the GPU, we need to identify and specify the GPU as the device. Later, in our training loop, we will load data onto the device. "
      ]
    },
    {
      "cell_type": "code",
      "metadata": {
        "id": "oYsV4H8fCpZ-",
        "colab_type": "code",
        "outputId": "effed762-1ad7-47c2-a41b-39a4a00af73b",
        "colab": {
          "base_uri": "https://localhost:8080/",
          "height": 34
        }
      },
      "source": [
        "device = torch.device(\"cuda\" if torch.cuda.is_available() else \"cpu\")\n",
        "n_gpu = torch.cuda.device_count()\n",
        "torch.cuda.get_device_name(0)"
      ],
      "execution_count": 4,
      "outputs": [
        {
          "output_type": "execute_result",
          "data": {
            "text/plain": [
              "'Tesla K80'"
            ]
          },
          "metadata": {
            "tags": []
          },
          "execution_count": 4
        }
      ]
    },
    {
      "cell_type": "markdown",
      "metadata": {
        "id": "guw6ZNtaswKc",
        "colab_type": "text"
      },
      "source": [
        "## Load Dataset\n"
      ]
    },
    {
      "cell_type": "markdown",
      "metadata": {
        "id": "NTU8Awqv4Eln",
        "colab_type": "text"
      },
      "source": [
        "Incident Data\n",
        "\n"
      ]
    },
    {
      "cell_type": "code",
      "metadata": {
        "id": "hnBHKD8BdcEn",
        "colab_type": "code",
        "colab": {
          "base_uri": "https://localhost:8080/",
          "height": 306
        },
        "outputId": "7f61ff3c-0ab3-4690-cbd3-c46c86d67279"
      },
      "source": [
        "!git clone https://github.com/abasu644/dataanalysis.git\n",
        "!unzip dataanalysis/data/opis_events_Jan2019_Oct2019_incident.zip\n",
        "filepath=\"OPIS_incident_data.csv\""
      ],
      "execution_count": 7,
      "outputs": [
        {
          "output_type": "stream",
          "text": [
            "Cloning into 'dataanalysis'...\n",
            "remote: Enumerating objects: 32, done.\u001b[K\n",
            "remote: Counting objects: 100% (32/32), done.\u001b[K\n",
            "remote: Compressing objects: 100% (28/28), done.\u001b[K\n",
            "remote: Total 32 (delta 12), reused 0 (delta 0), pack-reused 0\u001b[K\n",
            "Unpacking objects: 100% (32/32), done.\n",
            "Archive:  dataanalysis/data/opis_events_Jan2019_Oct2019_incident.zip\n",
            "  inflating: opis_events_Jan2019_Oct2019/events_2019_01.csv  \n",
            "  inflating: opis_events_Jan2019_Oct2019/events_2019_03.csv  \n",
            "  inflating: opis_events_Jan2019_Oct2019/events_2019_04.csv  \n",
            "  inflating: opis_events_Jan2019_Oct2019/events_2019_05.csv  \n",
            "  inflating: opis_events_Jan2019_Oct2019/events_2019_06.csv  \n",
            "  inflating: opis_events_Jan2019_Oct2019/events_2019_07.csv  \n",
            "  inflating: opis_events_Jan2019_Oct2019/events_2019_08.csv  \n",
            "  inflating: opis_events_Jan2019_Oct2019/events_2019_09.csv  \n",
            "  inflating: opis_events_Jan2019_Oct2019/events_2019_10.csv  \n",
            "  inflating: OPIS_incident_data.csv  \n"
          ],
          "name": "stdout"
        }
      ]
    },
    {
      "cell_type": "code",
      "metadata": {
        "id": "XAgvLlKIguuT",
        "colab_type": "code",
        "colab": {
          "base_uri": "https://localhost:8080/",
          "height": 136
        },
        "outputId": "cbb5a9e3-11cb-4ae0-f4b8-af0cd6041ec5"
      },
      "source": [
        "import pandas as pd\n",
        "import numpy as np\n",
        "import matplotlib.pyplot as plt\n",
        "%matplotlib inline\n",
        "\n",
        "## Importing Textblob package\n",
        "from textblob import TextBlob\n",
        "\n",
        "# Importing CountVectorizer for sparse matrix/ngrams frequencies\n",
        "from sklearn.feature_extraction.text import CountVectorizer\n",
        "\n",
        "## Import datetime\n",
        "import datetime as dt\n",
        "import nltk.compat\n",
        "import itertools\n",
        "import chardet\n",
        "nltk.download('stopwords')\n",
        "nltk.download('wordnet')\n",
        "nltk.download('punkt')\n",
        "with open(filepath,\"rb\") as mydata:\n",
        "    result = chardet.detect(mydata.read(1000000))\n",
        "print(result)\n",
        "\n",
        "def flat_accuracy(preds, labels):\n",
        "    pred_flat = np.argmax(preds, axis=1).flatten()\n",
        "    labels_flat = labels.flatten()\n",
        "    return np.sum(pred_flat == labels_flat) / len(labels_flat)"
      ],
      "execution_count": 8,
      "outputs": [
        {
          "output_type": "stream",
          "text": [
            "[nltk_data] Downloading package stopwords to /root/nltk_data...\n",
            "[nltk_data]   Package stopwords is already up-to-date!\n",
            "[nltk_data] Downloading package wordnet to /root/nltk_data...\n",
            "[nltk_data]   Package wordnet is already up-to-date!\n",
            "[nltk_data] Downloading package punkt to /root/nltk_data...\n",
            "[nltk_data]   Package punkt is already up-to-date!\n",
            "{'encoding': 'utf-8', 'confidence': 0.99, 'language': ''}\n"
          ],
          "name": "stdout"
        }
      ]
    },
    {
      "cell_type": "code",
      "metadata": {
        "id": "8AVp3SzQnGyt",
        "colab_type": "code",
        "colab": {
          "base_uri": "https://localhost:8080/",
          "height": 896
        },
        "outputId": "0e7b856c-8b3f-43c0-fccb-16f9b9b65640"
      },
      "source": [
        "pd.set_option('display.max_colwidth', -1)\n",
        "dfi = pd.read_csv(filepath);\n",
        "dfi.head(2)"
      ],
      "execution_count": 9,
      "outputs": [
        {
          "output_type": "execute_result",
          "data": {
            "text/html": [
              "<div>\n",
              "<style scoped>\n",
              "    .dataframe tbody tr th:only-of-type {\n",
              "        vertical-align: middle;\n",
              "    }\n",
              "\n",
              "    .dataframe tbody tr th {\n",
              "        vertical-align: top;\n",
              "    }\n",
              "\n",
              "    .dataframe thead th {\n",
              "        text-align: right;\n",
              "    }\n",
              "</style>\n",
              "<table border=\"1\" class=\"dataframe\">\n",
              "  <thead>\n",
              "    <tr style=\"text-align: right;\">\n",
              "      <th></th>\n",
              "      <th>Case ID</th>\n",
              "      <th>Environment</th>\n",
              "      <th>Case Record Type</th>\n",
              "      <th>Case Owner</th>\n",
              "      <th>Date/Time Closed</th>\n",
              "      <th>Priority</th>\n",
              "      <th>Urgency</th>\n",
              "      <th>Case Origin</th>\n",
              "      <th>Status</th>\n",
              "      <th>Case Number</th>\n",
              "      <th>Description</th>\n",
              "      <th>Subject</th>\n",
              "      <th>Date/Time Opened</th>\n",
              "      <th>Case Comments</th>\n",
              "      <th>Age (Hours)</th>\n",
              "      <th>Open</th>\n",
              "      <th>Closed</th>\n",
              "      <th>Account Name</th>\n",
              "    </tr>\n",
              "  </thead>\n",
              "  <tbody>\n",
              "    <tr>\n",
              "      <th>0</th>\n",
              "      <td>5002I00001wFRqZ</td>\n",
              "      <td>Production</td>\n",
              "      <td>Incident</td>\n",
              "      <td>Cloud Engineer Level 1</td>\n",
              "      <td>NaN</td>\n",
              "      <td>Moderate - P3</td>\n",
              "      <td>LEVEL 3 - Low</td>\n",
              "      <td>Email - Customer Service</td>\n",
              "      <td>Resolved</td>\n",
              "      <td>1135910</td>\n",
              "      <td>Subject: [Monitor Alert] Triggered: [OPIS-Prod] - ALB Unhealthy Host Count app/awseb-awseb-1flprbdqmpp98/2c0dd9272c0b7b98 targetgroup/awseb-datas-12lf5dj1kp5ly/70bf442b1c9e1b7c\\n\\n***** EXTERNAL EMAIL *****\\n[Datadog]\\n\\n[Triggered] [OPIS-Prod] - ALB Unhealthy Host Count app/awseb-awseb-1flprbdqmpp98/2c0dd9272c0b7b98 targetgroup/awseb-datas-12lf5dj1kp5ly/70bf442b1c9e1b7c\\n\\nALB Unhealthy Host Count  \\n\\n@rean_opis_support@hitachivantara.com\\n\\n[Metric Graph]&lt;https://nam04.safelinks.protection.outlook.com/?url=http%3A%2F%2Furl7268.dtdg.co%2Fwf%2Fclick%3Fupn%3D-2F4mdpADWUAWk9uvqkeGKKktae7H6XCvCCJh7u98yQEA7k1OMKa-2B2EkBxaON1TK4AIMVKj3NiysUTVTKbqsR1w0h9y5vrll-2Fd1yN4cZWAriDJf-2B2DH-2ByFTDIA5Xz9uvD1zLSHe97n2zeDb2B2wy-2B996JaZQ1NKjToXsZypwBAQTa-2B63NfTRHzQ2I9ssWUxfUP2TYVkJCKS5So5d3h4j7yPlx5ITu-2BFyIVsizgH-2FqIzShqr1ihjNXGEOBz4pHK1CV7gSeYJu2H-2FkkG0k7hmS8CwSvW-2BV2Ts-2B2Tr2o2v864-2FEjYqTL8-2BXNBKDB9zvrMHddp_sSXFvyPUrvNlDSJkF0NS8j8TdY0dj76oxpJpwcZr4NtfkUhqajW0da-2BlA8ZV96ag6Y-2FWlFhwp6vtjo6BPK14k0LD7ugrkbkRBHtikgAsqoRLDQAbfLG2v6-2FZr-2BeKeKCE4ldTzx3AU7pJYDZ0PqE3UD1hw9IY-2FfmYC3TbaSFMr4IKM8i-2F182WFmQ7huHUw36-2BDrSH7HRijLJtvTTPDhbgyA1XABqfYkETVddC6GF4FRJxI3MeNDh27qgRMfb3nb553hBRBMj9KwtqLuo-2FqG2DaA-3D-3D&amp;data=01%7C01%7Cniranjan.bagad%40hitachivantara.com%7Cc5bb5ab963154c79c2fe08d7574f4794%7C18791e1761594f52a8d4de814ca8284a%7C0&amp;sdata=G%2FduN3dCTqccI9EEihZPvBYHDUkYFDlKDgrnrfaEaG8%3D&amp;reserved=0&gt;\\n\\naws.applicationelb.healthy_host_count over loadbalancer:app/awseb-awseb-1flprbdqmpp98/2c0dd9272c0b7b98,monitoring:yes,targetgroup:targetgroup/awseb-datas-12lf5dj1kp5ly/70bf442b1c9e1b7c was &lt;= 0.0 at all times during the last 15m.\\n\\nThe monitor was last triggered at Wed Oct 23 2019 00:23:43 UTC.\\n\\n________________________________\\n\\n[Monitor Status&lt;https://nam04.safelinks.protection.outlook.com/?url=http%3A%2F%2Furl7268.dtdg.co%2Fwf%2Fclick%3Fupn%3D-2F4mdpADWUAWk9uvqkeGKKktae7H6XCvCCJh7u98yQEA7k1OMKa-2B2EkBxaON1TK4ALZsCBvuQzhbBymG33Sf96OBlG228brUnnM6Qfi6JiO39zB073BCbO7HXIO67IPl3-2BKqI-2FohCrikHR74VohYXkX4qNB4SolvPYJZ9jTW9xP3-2FWlU6pU4S-2FIMYZlG0SXTM4ssR-2BRk765srqUSGbpDfJ6M-2FPYfdlsYBCUkiCjsKjLUI1dSbFS3x587LOSeEp8Gp-2BW9YAwembgPQKVDw0wHDCw-3D-3D_sSXFvyPUrvNlDSJkF0NS8j8TdY0dj76oxpJpwcZr4NtfkUhqajW0da-2BlA8ZV96ag6Y-2FWlFhwp6vtjo6BPK14kzrkjU2N7PxzjoyHavaDhTy1mHTZIFtS-2BtyvxJkhOG2n66cSCzuKEnFGuraoSWhEndkFcAGIZUVvk94Fq6Npw1cq8TgT4IWe0jnsNgvimtNy5ZAWGnHODNM8iuuLKEyxq1lwmo5cYAiWC6jTcFhsIJmMCdwRHncXIbr-2B-2FcuwpMRiCo8tC1QjvBUtmMQrTDrNIQ-3D-3D&amp;data=01%7C01%7Cniranjan.bagad%40hitachivantara.com%7Cc5bb5ab963154c79c2fe08d7574f4794%7C18791e1761594f52a8d4de814ca8284a%7C0&amp;sdata=%2BNOa06p%2FYIP7%2FL%2B0D3NBxULzNeqSb%2FXBiZxHZh%2Bb%2Baw%3D&amp;reserved=0&gt;] · [Edit Monitor&lt;https://nam04.safelinks.protection.outlook.com/?url=http%3A%2F%2Furl7268.dtdg.co%2Fwf%2Fclick%3Fupn%3D-2F4mdpADWUAWk9uvqkeGKKktae7H6XCvCCJh7u98yQEA7k1OMKa-2B2EkBxaON1TK4AvZYmJ-2FzyBCygW1DQpaQHSw-3D-3D_sSXFvyPUrvNlDSJkF0NS8j8TdY0dj76oxpJpwcZr4NtfkUhqajW0da-2BlA8ZV96ag6Y-2FWlFhwp6vtjo6BPK14k1N1olN2uFJBaRrPE5NcG3066b1Qra42gQpCL1vH64viuIOOvWwNKBLAccKkL9eeTdCKtV9IUcmxt6QOPx0aMffnK1cInmkSa6j6r6wOIKGrsr7do4EtC7I4W9HQVRcV7sAgtfK5V4hzeKCBUbgP7di4RrTeMlcyby0Nf-2F0-2BRQtjAWlTpDaY3nOI9B8Q1TLJIw-3D-3D&amp;data=01%7C01%7Cniranjan.bagad%40hitachivantara.com%7Cc5bb5ab963154c79c2fe08d7574f4794%7C18791e1761594f52a8d4de814ca8284a%7C0&amp;sdata=etVEQnN4SDHA1%2FHj5ek5U2gp2Xyp5C5%2FbJoQm6HXFIU%3D&amp;reserved=0&gt;] · [Related Logs&lt;https://nam04.safelinks.protection.outlook.com/?url=http%3A%2F%2Furl7268.dtdg.co%2Fwf%2Fclick%3Fupn%3D-2F4mdpADWUAWk9uvqkeGKKktae7H6XCvCCJh7u98yQED0aSnzcePClQxiuDZkSw3dmc5-2BNnflF5gNsG5mP3Yg7hLyayBVYTMaHKOFDxW4TLS-2BWyBCKWtEf34ynrThmHYkwd64UKfSgATizsbyrFNaNXKOErnvtDuKQYWH7bDnhwEh9deb-2BS3Xadvy-2FJ-2FE-2B1UZnoWb7IZIAB27LtdNfj9Yc2ezyRpCOs4i5wFcgJ9c5CRQAiLXbcy0tcuq7iIU-2FHxxlF9Qz-2FfPplxKoAefZ4lP9u4qBia0ZaXFnv80BpePjmGUO8Sj-2Boesxy-2FoYcjnAyRxxaZDQfRw-2BZiLkYJS2WQTvg-3D-3D_sSXFvyPUrvNlDSJkF0NS8j8TdY0dj76oxpJpwcZr4NtfkUhqajW0da-2BlA8ZV96ag6Y-2FWlFhwp6vtjo6BPK14k75osUzvxkpPlpb3STENhqzPZYUIRyhxRb8TPbedwpoUcWoc0NaHkiyI7w6vNPf8-2F2eUxAx5j33OK51GO42XvTSwRymaqJPdyybxiq-2Br66jAm9nWSP9Zxv27XjYEdL2h35ep4XKx8Y3xYJ8Nc0GeTPz-2FvSJB3mTZTc4cEh-2FTwWZHFYsPOJ43g8CKOSvogXTdsw-3D-3D&amp;data=01%7C01%7Cniranjan.bagad%40hitachivantara.com%7Cc5bb5ab963154c79c2fe08d7574f4794%7C18791e1761594f52a8d4de814ca8284a%7C0&amp;sdata=pHp%2Biap1eYG6RE74sla73GbIUHrsVXqi9I4yfusX35c%3D&amp;reserved=0&gt;]\\n\\nThis alert was raised by account OPIS\\n\\nComment in Datadog&lt;https://nam04.safelinks.protection.outlook.com/?url=http%3A%2F%2Furl7268.dtdg.co%2Fwf%2Fclick%3Fupn%3D-2F4mdpADWUAWk9uvqkeGKKktae7H6XCvCCJh7u98yQEAYJwPp8omKJuncXDFvQtombe2iGV4ePGzEeH4vso4qFEd4uAn7daWIa6I-2Fnqn-2Bglk-3D_sSXFvyPUrvNlDSJkF0NS8j8TdY0dj76oxpJpwcZr4NtfkUhqajW0da-2BlA8ZV96ag6Y-2FWlFhwp6vtjo6BPK14k5xxYKKJvl6eaLlTn6wy6oi4ysjrHIZ2jGDHgiFjCRiz6NmB8cwr2QWKfjL87UJdaBKRtB-2BU9xasiG07r0q0kVJuKl-2BhP8vupxtK0WQjtAgX2D0yf1iP6i0bndp3u2ZCZT6xHgs9Rjoeov-2F79wFC3sgPJLrhBPBWqKrhibqa19961g9Vom7N80GXTNdCCo5Vxg-3D-3D&amp;data=01%7C01%7Cniranjan.bagad%40hitachivantara.com%7Cc5bb5ab963154c79c2fe08d7574f4794%7C18791e1761594f52a8d4de814ca8284a%7C0&amp;sdata=79e59crjewcF8uD%2BQMZhBHOMfQ4tWWPBFP%2Ba1wYoOgc%3D&amp;reserved=0&gt;\\n\\nTo manage your Datadog subscriptions, click here&lt;https://nam04.safelinks.protection.outlook.com/?url=http%3A%2F%2Furl7268.dtdg.co%2Fwf%2Fclick%3Fupn%3D-2F4mdpADWUAWk9uvqkeGKKktae7H6XCvCCJh7u98yQECkg7AnUPKGn51plZlHct1NB9fwJzgmRoiq4UZtJ-2F9d6Q-3D-3D_sSXFvyPUrvNlDSJkF0NS8j8TdY0dj76oxpJpwcZr4NtfkUhqajW0da-2BlA8ZV96ag6Y-2FWlFhwp6vtjo6BPK14k1wsmERcSAe8UCuQPZ9PMujOBv-2Fhwnp6CFeOkIUPsdLsVRHoNr9YXEx12qS-2F3T65YANrAci7jazf7HUBkAA5Ai9pONtaOcWrqpXyx9qrKmz-2BgV-2FH1LhQIlW-2FnMlurSrYIiYHZSzbIwEYXPIskCK5OzilzHnWEgKULHNC8Vjv7p8tCFjV-2FDTqiPuqVuOqwotK8Q-3D-3D&amp;data=01%7C01%7Cniranjan.bagad%40hitachivantara.com%7Cc5bb5ab963154c79c2fe08d7574f4794%7C18791e1761594f52a8d4de814ca8284a%7C0&amp;sdata=3Ppg84eE1030PrAbCn2Qi5VVGwxIWW9FzvMCF7C80Pw%3D&amp;reserved=0&gt;.</td>\n",
              "      <td>[Monitor Alert] Triggered: [OPIS-Prod] - ALB Unhealthy Host Count app/awseb-awseb-1flprbdqmpp98/2c0dd9272c0b7b98 targetgroup/awseb-datas-12lf5dj1kp5ly/70bf442b1c9e1b7c</td>\n",
              "      <td>23/10/2019 06:42</td>\n",
              "      <td>Hello Team,\\n\\nWe have received an alert regarding the ALB Unhealthy Host Count on pp/awseb-awseb-1flprbdqmpp98. \\n\\nWe are analyzing this alert and will let you know the updates.\\n\\nThanks</td>\n",
              "      <td>7.0</td>\n",
              "      <td>1</td>\n",
              "      <td>0</td>\n",
              "      <td>OPIS</td>\n",
              "    </tr>\n",
              "    <tr>\n",
              "      <th>1</th>\n",
              "      <td>5002I00001uW3pn</td>\n",
              "      <td>Production</td>\n",
              "      <td>Service Request</td>\n",
              "      <td>Cloud Engineer Level 1</td>\n",
              "      <td>24/09/2019 06:59</td>\n",
              "      <td>High - P2</td>\n",
              "      <td>LEVEL 2 - Medium</td>\n",
              "      <td>Email - Customer Service</td>\n",
              "      <td>Closed</td>\n",
              "      <td>1134188</td>\n",
              "      <td>***** EXTERNAL EMAIL *****\\nNew Change Management Request from OPIS\\n________________________________\\n\\nENTRY TIME:\\n9/20/2019 15:31:57\\n\\nENTERED BY:\\n\\n  *   Name: Michael Piet\\n  *   Email: michael.piet@Ihsmarkit.com\\n  *   Phone: 3012842063\\n\\nPRIMARY CONTACT:\\n\\n  *   Name: Michael Piet\\n  *   Email: michael.piet@Ihsmarkit.com\\n  *   Phone: 3012842063\\n\\nDIVISION:\\nHelp Desk\\n\\nREQUEST NAME:\\nCreate new SFTP account\\n\\nSEVERITY:\\nImpacts Customers (P2)\\n\\nENVIRONMENT:\\nPROD\\n\\nPLANNED IMPLEMENTATION WINDOW:\\n\\n  *   Start Date/Time: 9/20/2019 3:00pm\\n  *   End Date/Time: 9/20/2019 4:00pm\\n\\nCHANGE/SERVICE TYPE:\\nFTP/SFTP accounts (SR)\\n\\nUSER STORY:\\nPlease create a new SFTP account called 278458_S. You can set the password to whatever you like and send it to me via PassPack. Also, please whitelist IP 129.213.141.50 in connection. In the Description for this, add the note \"Workfront #504987\"\\n\\nADDITIONAL DETAIL:\\nN/A\\n\\nACCEPTANCE CRITERIA:\\nWhen the customer can connect\\n\\nVALIDATION TO BE PERFORMED BY:\\nOPIS\\n\\nTEST PLAN:\\nN/A\\n\\nROLLBACK PLAN:\\nN/A\\n\\nBUSINESS IMPACT:\\nLow\\n\\nSYSTEM IMPACT:\\nLow\\n\\nRISK ASSESSMENT:\\nN/A</td>\n",
              "      <td>OPIS CM: [P2] Create new SFTP account</td>\n",
              "      <td>21/09/2019 01:02</td>\n",
              "      <td>Hello Michael,\\n\\nWe have created the user 278458_S and shared password through passpack. Passpack Entry: 278458_S SFTP Password. We have whitelisted the IP as well. \\n\\nPlease check from your end and let us know in case of any queries.</td>\n",
              "      <td>78.0</td>\n",
              "      <td>0</td>\n",
              "      <td>1</td>\n",
              "      <td>OPIS</td>\n",
              "    </tr>\n",
              "  </tbody>\n",
              "</table>\n",
              "</div>"
            ],
            "text/plain": [
              "           Case ID Environment Case Record Type  ... Open Closed Account Name\n",
              "0  5002I00001wFRqZ  Production  Incident         ...  1    0      OPIS       \n",
              "1  5002I00001uW3pn  Production  Service Request  ...  0    1      OPIS       \n",
              "\n",
              "[2 rows x 18 columns]"
            ]
          },
          "metadata": {
            "tags": []
          },
          "execution_count": 9
        }
      ]
    },
    {
      "cell_type": "code",
      "metadata": {
        "id": "YpEPx3QB7IS5",
        "colab_type": "code",
        "colab": {}
      },
      "source": [
        "dfi = pd.read_csv(filepath);\n",
        "#df = pd.read_csv(\"OPIS_incident_data.csv\")\n",
        "dfi=dfi[[\"Description\",\"Subject\"]]\n",
        "dfi=dfi.drop_duplicates()\n",
        "df_pos=dfi.copy()\n",
        "\n",
        "df_neg=dfi.copy()\n",
        "df_neg.index=np.random.permutation(df_neg.index)\n",
        "df_neg=df_pos.merge(df_neg, left_index=True,right_index=True) \n",
        "df_neg=df_neg[['Description_x','Subject_y']]\n",
        "df_neg.columns=[\"Description\",\"Subject\"]\n",
        "df_pos['Next_Sent']=1\n",
        "df_neg['Next_Sent']=0\n",
        "dftrain=pd.concat([df_pos,df_neg],axis=0)\n"
      ],
      "execution_count": 0,
      "outputs": []
    },
    {
      "cell_type": "code",
      "metadata": {
        "id": "gDLeOEwnYnvn",
        "colab_type": "code",
        "colab": {}
      },
      "source": [
        "# Data preparation\n",
        "from nltk.corpus import stopwords\n",
        "from nltk import word_tokenize,sent_tokenize\n",
        "from textblob import Word\n",
        "import re\n",
        "stop = stopwords.words(\"english\")\n",
        "stop.extend(['Comment','subscriptions','Edit','To','Monitor','manage','Alert','Triggered','EMAIL','EXTERNAL','click'])\n",
        "def prepare_data_snp(df):\n",
        "  #Start Pars\n",
        "  df['sent']=df.apply(lambda s: \"CLSTOKEN \" + re.sub(r\"http\\S+\", \"\", s['Subject'] )+ \n",
        "                      \" SEPTOKEN \" + re.sub(r\"http\\S+\", \"\", s['Description'] )  + \" SEPTOKEN \",axis=1 )\n",
        "  \n",
        "  df[\"sent\"] = df[\"sent\"].str.replace(\"[^\\w\\s]\",\" \")\n",
        "  df[\"sent\"] = df[\"sent\"].str.replace(\"\\n\",\" \")\n",
        "  df[\"sent\"] = df[\"sent\"].str.replace(\"\\t\",\" \")\n",
        "  df[\"sent\"] = df[\"sent\"].apply(lambda x: \" \".join(x for x in x.split() if x not in stop))\n",
        "  df[\"sent\"] = df[\"sent\"].apply(lambda x: \" \".join([Word(myword).lemmatize() for myword in x.split()])  )\n",
        "  def filterToken(token_txt):\n",
        "    token_txt=word_tokenize(token_txt)\n",
        "    finaltokenized=[]\n",
        "    for token in token_txt:\n",
        "      def removeSystemtoken(s):\n",
        "        d=l=u=0\n",
        "        for c in s:\n",
        "            if c.isdigit():\n",
        "                d=d+1\n",
        "            elif c.isalpha():\n",
        "                l=l+1\n",
        "            else:\n",
        "                u=u+1\n",
        "        return d,l,u\n",
        "      digc,letc,uc=removeSystemtoken(token)\n",
        "      if  digc >1 and letc>0 :\n",
        "        continue\n",
        "      elif digc >0 and letc==0 :\n",
        "        continue \n",
        "      elif digc ==0 and letc==0 and uc>0:\n",
        "        continue\n",
        "      else:\n",
        "        finaltokenized.append(token)\n",
        "    return (' ').join(finaltokenized)\n",
        "  df[\"sent\"] =  df[\"sent\"].apply(lambda x: filterToken(x))\n",
        "  df[\"sent\"] = df[\"sent\"].str.replace(\"CLSTOKEN\",\"[CLS]\")\n",
        "  df[\"sent\"] = df[\"sent\"].str.replace(\"SEPTOKEN\",\"[SEP]\")\n",
        "  return df.sent.values,df.Next_Sent.values\n",
        "\n",
        "dt,labels=prepare_data_snp(dftrain.sample(frac=1))\n"
      ],
      "execution_count": 0,
      "outputs": []
    },
    {
      "cell_type": "markdown",
      "metadata": {
        "id": "ex5O1eV-Pfct",
        "colab_type": "text"
      },
      "source": [
        "## Inputs"
      ]
    },
    {
      "cell_type": "code",
      "metadata": {
        "id": "kDs-MYtYH8sL",
        "colab_type": "code",
        "colab": {}
      },
      "source": [
        "MAX_LEN=128\n",
        "tokenizer = BertTokenizer.from_pretrained('bert-base-uncased', do_lower_case=True)\n",
        "tokenized_texts = [tokenizer.tokenize(sent)[:MAX_LEN] for sent in dt]\n",
        "\n",
        "# Convert token to vocabulary indices\n",
        "input_ids = [tokenizer.convert_tokens_to_ids(x) for x in tokenized_texts]\n",
        "input_ids = pad_sequences(input_ids, maxlen=MAX_LEN, dtype=\"long\", truncating=\"post\", padding=\"post\")\n",
        "\n",
        "attention_masks = []\n",
        "# Create a mask of 1s for each token followed by 0s for padding\n",
        "for seq in input_ids:\n",
        "  seq_mask = [float(i>0) for i in seq]\n",
        "  attention_masks.append(seq_mask)\n",
        "  \n",
        "#attention_masks=np.array(attention_masks)  \n",
        "\n",
        "segment_ids=[]\n",
        "for idi in input_ids:\n",
        "  #print(idi.shape)\n",
        "  first_sent_len= np.where(idi==102)[0][0]\n",
        "  sec_sent_len= MAX_LEN-(first_sent_len)\n",
        "  #print(first_sent_len)\n",
        "  seg_id =first_sent_len*[0] + sec_sent_len*[1]\n",
        "  segment_ids.append(seg_id)\n",
        "  \n"
      ],
      "execution_count": 0,
      "outputs": []
    },
    {
      "cell_type": "code",
      "metadata": {
        "id": "aFbE-UHvsb7-",
        "colab_type": "code",
        "colab": {}
      },
      "source": [
        "# Use train_test_split to split our data into train and validation sets for training\n",
        "\n",
        "train_inputs, validation_inputs, train_labels, validation_labels = train_test_split(input_ids, labels, \n",
        "                                                            random_state=2018, test_size=0.1)\n",
        "train_masks, validation_masks, _, _ = train_test_split(attention_masks, input_ids,\n",
        "                                             random_state=2018, test_size=0.1)\n",
        "train_seg_masks, validation_seg_masks, _, _ = train_test_split(segment_ids, input_ids,\n",
        "                                             random_state=2018, test_size=0.1)"
      ],
      "execution_count": 0,
      "outputs": []
    },
    {
      "cell_type": "code",
      "metadata": {
        "id": "jw5K2A5Ko1RF",
        "colab_type": "code",
        "colab": {}
      },
      "source": [
        "# Convert all of our data into torch tensors, the required datatype for our model\n",
        "\n",
        "train_inputs = torch.tensor(train_inputs)\n",
        "validation_inputs = torch.tensor(validation_inputs)\n",
        "train_labels = torch.tensor(train_labels)\n",
        "validation_labels = torch.tensor(validation_labels)\n",
        "train_masks = torch.tensor(train_masks)\n",
        "validation_masks = torch.tensor(validation_masks)\n",
        "train_seg_masks = torch.tensor(train_seg_masks)\n",
        "validation_seg_masks = torch.tensor(validation_seg_masks)"
      ],
      "execution_count": 0,
      "outputs": []
    },
    {
      "cell_type": "code",
      "metadata": {
        "id": "GEgLpFVlo1Z-",
        "colab_type": "code",
        "colab": {}
      },
      "source": [
        "# Select a batch size for training. For fine-tuning BERT on a specific task, the authors recommend a batch size of 16 or 32\n",
        "batch_size=32\n",
        "# Create an iterator of our data with torch DataLoader. This helps save on memory during training because, unlike a for loop, \n",
        "# with an iterator the entire dataset does not need to be loaded into memory\n",
        "\n",
        "train_data = TensorDataset(train_inputs, train_masks,train_seg_masks, train_labels)\n",
        "train_sampler = RandomSampler(train_data)\n",
        "train_dataloader = DataLoader(train_data, sampler=train_sampler, batch_size=batch_size)\n",
        "\n",
        "validation_data = TensorDataset(validation_inputs, validation_masks,validation_seg_masks, validation_labels)\n",
        "validation_sampler = SequentialSampler(validation_data)\n",
        "validation_dataloader = DataLoader(validation_data, sampler=validation_sampler, batch_size=batch_size)\n"
      ],
      "execution_count": 0,
      "outputs": []
    },
    {
      "cell_type": "code",
      "metadata": {
        "id": "awXQtogSubLg",
        "colab_type": "code",
        "colab": {
          "base_uri": "https://localhost:8080/",
          "height": 34
        },
        "outputId": "1c5b0237-9007-49a6-9303-0a64a416374f"
      },
      "source": [
        "train_labels"
      ],
      "execution_count": 214,
      "outputs": [
        {
          "output_type": "execute_result",
          "data": {
            "text/plain": [
              "tensor([0, 1, 0,  ..., 0, 0, 1])"
            ]
          },
          "metadata": {
            "tags": []
          },
          "execution_count": 214
        }
      ]
    },
    {
      "cell_type": "markdown",
      "metadata": {
        "id": "pNl8khAhPYju",
        "colab_type": "text"
      },
      "source": [
        "## Train Model"
      ]
    },
    {
      "cell_type": "code",
      "metadata": {
        "id": "gFsCTp_mporB",
        "colab_type": "code",
        "outputId": "97906a1a-99aa-49d9-bce8-45c89980b164",
        "colab": {
          "base_uri": "https://localhost:8080/",
          "height": 1000
        }
      },
      "source": [
        "\n",
        "model = BertForNextSentencePrediction.from_pretrained(\"bert-base-uncased\")\n",
        "model.cuda()"
      ],
      "execution_count": 38,
      "outputs": [
        {
          "output_type": "execute_result",
          "data": {
            "text/plain": [
              "BertForNextSentencePrediction(\n",
              "  (bert): BertModel(\n",
              "    (embeddings): BertEmbeddings(\n",
              "      (word_embeddings): Embedding(30522, 768, padding_idx=0)\n",
              "      (position_embeddings): Embedding(512, 768)\n",
              "      (token_type_embeddings): Embedding(2, 768)\n",
              "      (LayerNorm): LayerNorm((768,), eps=1e-12, elementwise_affine=True)\n",
              "      (dropout): Dropout(p=0.1, inplace=False)\n",
              "    )\n",
              "    (encoder): BertEncoder(\n",
              "      (layer): ModuleList(\n",
              "        (0): BertLayer(\n",
              "          (attention): BertAttention(\n",
              "            (self): BertSelfAttention(\n",
              "              (query): Linear(in_features=768, out_features=768, bias=True)\n",
              "              (key): Linear(in_features=768, out_features=768, bias=True)\n",
              "              (value): Linear(in_features=768, out_features=768, bias=True)\n",
              "              (dropout): Dropout(p=0.1, inplace=False)\n",
              "            )\n",
              "            (output): BertSelfOutput(\n",
              "              (dense): Linear(in_features=768, out_features=768, bias=True)\n",
              "              (LayerNorm): LayerNorm((768,), eps=1e-12, elementwise_affine=True)\n",
              "              (dropout): Dropout(p=0.1, inplace=False)\n",
              "            )\n",
              "          )\n",
              "          (intermediate): BertIntermediate(\n",
              "            (dense): Linear(in_features=768, out_features=3072, bias=True)\n",
              "          )\n",
              "          (output): BertOutput(\n",
              "            (dense): Linear(in_features=3072, out_features=768, bias=True)\n",
              "            (LayerNorm): LayerNorm((768,), eps=1e-12, elementwise_affine=True)\n",
              "            (dropout): Dropout(p=0.1, inplace=False)\n",
              "          )\n",
              "        )\n",
              "        (1): BertLayer(\n",
              "          (attention): BertAttention(\n",
              "            (self): BertSelfAttention(\n",
              "              (query): Linear(in_features=768, out_features=768, bias=True)\n",
              "              (key): Linear(in_features=768, out_features=768, bias=True)\n",
              "              (value): Linear(in_features=768, out_features=768, bias=True)\n",
              "              (dropout): Dropout(p=0.1, inplace=False)\n",
              "            )\n",
              "            (output): BertSelfOutput(\n",
              "              (dense): Linear(in_features=768, out_features=768, bias=True)\n",
              "              (LayerNorm): LayerNorm((768,), eps=1e-12, elementwise_affine=True)\n",
              "              (dropout): Dropout(p=0.1, inplace=False)\n",
              "            )\n",
              "          )\n",
              "          (intermediate): BertIntermediate(\n",
              "            (dense): Linear(in_features=768, out_features=3072, bias=True)\n",
              "          )\n",
              "          (output): BertOutput(\n",
              "            (dense): Linear(in_features=3072, out_features=768, bias=True)\n",
              "            (LayerNorm): LayerNorm((768,), eps=1e-12, elementwise_affine=True)\n",
              "            (dropout): Dropout(p=0.1, inplace=False)\n",
              "          )\n",
              "        )\n",
              "        (2): BertLayer(\n",
              "          (attention): BertAttention(\n",
              "            (self): BertSelfAttention(\n",
              "              (query): Linear(in_features=768, out_features=768, bias=True)\n",
              "              (key): Linear(in_features=768, out_features=768, bias=True)\n",
              "              (value): Linear(in_features=768, out_features=768, bias=True)\n",
              "              (dropout): Dropout(p=0.1, inplace=False)\n",
              "            )\n",
              "            (output): BertSelfOutput(\n",
              "              (dense): Linear(in_features=768, out_features=768, bias=True)\n",
              "              (LayerNorm): LayerNorm((768,), eps=1e-12, elementwise_affine=True)\n",
              "              (dropout): Dropout(p=0.1, inplace=False)\n",
              "            )\n",
              "          )\n",
              "          (intermediate): BertIntermediate(\n",
              "            (dense): Linear(in_features=768, out_features=3072, bias=True)\n",
              "          )\n",
              "          (output): BertOutput(\n",
              "            (dense): Linear(in_features=3072, out_features=768, bias=True)\n",
              "            (LayerNorm): LayerNorm((768,), eps=1e-12, elementwise_affine=True)\n",
              "            (dropout): Dropout(p=0.1, inplace=False)\n",
              "          )\n",
              "        )\n",
              "        (3): BertLayer(\n",
              "          (attention): BertAttention(\n",
              "            (self): BertSelfAttention(\n",
              "              (query): Linear(in_features=768, out_features=768, bias=True)\n",
              "              (key): Linear(in_features=768, out_features=768, bias=True)\n",
              "              (value): Linear(in_features=768, out_features=768, bias=True)\n",
              "              (dropout): Dropout(p=0.1, inplace=False)\n",
              "            )\n",
              "            (output): BertSelfOutput(\n",
              "              (dense): Linear(in_features=768, out_features=768, bias=True)\n",
              "              (LayerNorm): LayerNorm((768,), eps=1e-12, elementwise_affine=True)\n",
              "              (dropout): Dropout(p=0.1, inplace=False)\n",
              "            )\n",
              "          )\n",
              "          (intermediate): BertIntermediate(\n",
              "            (dense): Linear(in_features=768, out_features=3072, bias=True)\n",
              "          )\n",
              "          (output): BertOutput(\n",
              "            (dense): Linear(in_features=3072, out_features=768, bias=True)\n",
              "            (LayerNorm): LayerNorm((768,), eps=1e-12, elementwise_affine=True)\n",
              "            (dropout): Dropout(p=0.1, inplace=False)\n",
              "          )\n",
              "        )\n",
              "        (4): BertLayer(\n",
              "          (attention): BertAttention(\n",
              "            (self): BertSelfAttention(\n",
              "              (query): Linear(in_features=768, out_features=768, bias=True)\n",
              "              (key): Linear(in_features=768, out_features=768, bias=True)\n",
              "              (value): Linear(in_features=768, out_features=768, bias=True)\n",
              "              (dropout): Dropout(p=0.1, inplace=False)\n",
              "            )\n",
              "            (output): BertSelfOutput(\n",
              "              (dense): Linear(in_features=768, out_features=768, bias=True)\n",
              "              (LayerNorm): LayerNorm((768,), eps=1e-12, elementwise_affine=True)\n",
              "              (dropout): Dropout(p=0.1, inplace=False)\n",
              "            )\n",
              "          )\n",
              "          (intermediate): BertIntermediate(\n",
              "            (dense): Linear(in_features=768, out_features=3072, bias=True)\n",
              "          )\n",
              "          (output): BertOutput(\n",
              "            (dense): Linear(in_features=3072, out_features=768, bias=True)\n",
              "            (LayerNorm): LayerNorm((768,), eps=1e-12, elementwise_affine=True)\n",
              "            (dropout): Dropout(p=0.1, inplace=False)\n",
              "          )\n",
              "        )\n",
              "        (5): BertLayer(\n",
              "          (attention): BertAttention(\n",
              "            (self): BertSelfAttention(\n",
              "              (query): Linear(in_features=768, out_features=768, bias=True)\n",
              "              (key): Linear(in_features=768, out_features=768, bias=True)\n",
              "              (value): Linear(in_features=768, out_features=768, bias=True)\n",
              "              (dropout): Dropout(p=0.1, inplace=False)\n",
              "            )\n",
              "            (output): BertSelfOutput(\n",
              "              (dense): Linear(in_features=768, out_features=768, bias=True)\n",
              "              (LayerNorm): LayerNorm((768,), eps=1e-12, elementwise_affine=True)\n",
              "              (dropout): Dropout(p=0.1, inplace=False)\n",
              "            )\n",
              "          )\n",
              "          (intermediate): BertIntermediate(\n",
              "            (dense): Linear(in_features=768, out_features=3072, bias=True)\n",
              "          )\n",
              "          (output): BertOutput(\n",
              "            (dense): Linear(in_features=3072, out_features=768, bias=True)\n",
              "            (LayerNorm): LayerNorm((768,), eps=1e-12, elementwise_affine=True)\n",
              "            (dropout): Dropout(p=0.1, inplace=False)\n",
              "          )\n",
              "        )\n",
              "        (6): BertLayer(\n",
              "          (attention): BertAttention(\n",
              "            (self): BertSelfAttention(\n",
              "              (query): Linear(in_features=768, out_features=768, bias=True)\n",
              "              (key): Linear(in_features=768, out_features=768, bias=True)\n",
              "              (value): Linear(in_features=768, out_features=768, bias=True)\n",
              "              (dropout): Dropout(p=0.1, inplace=False)\n",
              "            )\n",
              "            (output): BertSelfOutput(\n",
              "              (dense): Linear(in_features=768, out_features=768, bias=True)\n",
              "              (LayerNorm): LayerNorm((768,), eps=1e-12, elementwise_affine=True)\n",
              "              (dropout): Dropout(p=0.1, inplace=False)\n",
              "            )\n",
              "          )\n",
              "          (intermediate): BertIntermediate(\n",
              "            (dense): Linear(in_features=768, out_features=3072, bias=True)\n",
              "          )\n",
              "          (output): BertOutput(\n",
              "            (dense): Linear(in_features=3072, out_features=768, bias=True)\n",
              "            (LayerNorm): LayerNorm((768,), eps=1e-12, elementwise_affine=True)\n",
              "            (dropout): Dropout(p=0.1, inplace=False)\n",
              "          )\n",
              "        )\n",
              "        (7): BertLayer(\n",
              "          (attention): BertAttention(\n",
              "            (self): BertSelfAttention(\n",
              "              (query): Linear(in_features=768, out_features=768, bias=True)\n",
              "              (key): Linear(in_features=768, out_features=768, bias=True)\n",
              "              (value): Linear(in_features=768, out_features=768, bias=True)\n",
              "              (dropout): Dropout(p=0.1, inplace=False)\n",
              "            )\n",
              "            (output): BertSelfOutput(\n",
              "              (dense): Linear(in_features=768, out_features=768, bias=True)\n",
              "              (LayerNorm): LayerNorm((768,), eps=1e-12, elementwise_affine=True)\n",
              "              (dropout): Dropout(p=0.1, inplace=False)\n",
              "            )\n",
              "          )\n",
              "          (intermediate): BertIntermediate(\n",
              "            (dense): Linear(in_features=768, out_features=3072, bias=True)\n",
              "          )\n",
              "          (output): BertOutput(\n",
              "            (dense): Linear(in_features=3072, out_features=768, bias=True)\n",
              "            (LayerNorm): LayerNorm((768,), eps=1e-12, elementwise_affine=True)\n",
              "            (dropout): Dropout(p=0.1, inplace=False)\n",
              "          )\n",
              "        )\n",
              "        (8): BertLayer(\n",
              "          (attention): BertAttention(\n",
              "            (self): BertSelfAttention(\n",
              "              (query): Linear(in_features=768, out_features=768, bias=True)\n",
              "              (key): Linear(in_features=768, out_features=768, bias=True)\n",
              "              (value): Linear(in_features=768, out_features=768, bias=True)\n",
              "              (dropout): Dropout(p=0.1, inplace=False)\n",
              "            )\n",
              "            (output): BertSelfOutput(\n",
              "              (dense): Linear(in_features=768, out_features=768, bias=True)\n",
              "              (LayerNorm): LayerNorm((768,), eps=1e-12, elementwise_affine=True)\n",
              "              (dropout): Dropout(p=0.1, inplace=False)\n",
              "            )\n",
              "          )\n",
              "          (intermediate): BertIntermediate(\n",
              "            (dense): Linear(in_features=768, out_features=3072, bias=True)\n",
              "          )\n",
              "          (output): BertOutput(\n",
              "            (dense): Linear(in_features=3072, out_features=768, bias=True)\n",
              "            (LayerNorm): LayerNorm((768,), eps=1e-12, elementwise_affine=True)\n",
              "            (dropout): Dropout(p=0.1, inplace=False)\n",
              "          )\n",
              "        )\n",
              "        (9): BertLayer(\n",
              "          (attention): BertAttention(\n",
              "            (self): BertSelfAttention(\n",
              "              (query): Linear(in_features=768, out_features=768, bias=True)\n",
              "              (key): Linear(in_features=768, out_features=768, bias=True)\n",
              "              (value): Linear(in_features=768, out_features=768, bias=True)\n",
              "              (dropout): Dropout(p=0.1, inplace=False)\n",
              "            )\n",
              "            (output): BertSelfOutput(\n",
              "              (dense): Linear(in_features=768, out_features=768, bias=True)\n",
              "              (LayerNorm): LayerNorm((768,), eps=1e-12, elementwise_affine=True)\n",
              "              (dropout): Dropout(p=0.1, inplace=False)\n",
              "            )\n",
              "          )\n",
              "          (intermediate): BertIntermediate(\n",
              "            (dense): Linear(in_features=768, out_features=3072, bias=True)\n",
              "          )\n",
              "          (output): BertOutput(\n",
              "            (dense): Linear(in_features=3072, out_features=768, bias=True)\n",
              "            (LayerNorm): LayerNorm((768,), eps=1e-12, elementwise_affine=True)\n",
              "            (dropout): Dropout(p=0.1, inplace=False)\n",
              "          )\n",
              "        )\n",
              "        (10): BertLayer(\n",
              "          (attention): BertAttention(\n",
              "            (self): BertSelfAttention(\n",
              "              (query): Linear(in_features=768, out_features=768, bias=True)\n",
              "              (key): Linear(in_features=768, out_features=768, bias=True)\n",
              "              (value): Linear(in_features=768, out_features=768, bias=True)\n",
              "              (dropout): Dropout(p=0.1, inplace=False)\n",
              "            )\n",
              "            (output): BertSelfOutput(\n",
              "              (dense): Linear(in_features=768, out_features=768, bias=True)\n",
              "              (LayerNorm): LayerNorm((768,), eps=1e-12, elementwise_affine=True)\n",
              "              (dropout): Dropout(p=0.1, inplace=False)\n",
              "            )\n",
              "          )\n",
              "          (intermediate): BertIntermediate(\n",
              "            (dense): Linear(in_features=768, out_features=3072, bias=True)\n",
              "          )\n",
              "          (output): BertOutput(\n",
              "            (dense): Linear(in_features=3072, out_features=768, bias=True)\n",
              "            (LayerNorm): LayerNorm((768,), eps=1e-12, elementwise_affine=True)\n",
              "            (dropout): Dropout(p=0.1, inplace=False)\n",
              "          )\n",
              "        )\n",
              "        (11): BertLayer(\n",
              "          (attention): BertAttention(\n",
              "            (self): BertSelfAttention(\n",
              "              (query): Linear(in_features=768, out_features=768, bias=True)\n",
              "              (key): Linear(in_features=768, out_features=768, bias=True)\n",
              "              (value): Linear(in_features=768, out_features=768, bias=True)\n",
              "              (dropout): Dropout(p=0.1, inplace=False)\n",
              "            )\n",
              "            (output): BertSelfOutput(\n",
              "              (dense): Linear(in_features=768, out_features=768, bias=True)\n",
              "              (LayerNorm): LayerNorm((768,), eps=1e-12, elementwise_affine=True)\n",
              "              (dropout): Dropout(p=0.1, inplace=False)\n",
              "            )\n",
              "          )\n",
              "          (intermediate): BertIntermediate(\n",
              "            (dense): Linear(in_features=768, out_features=3072, bias=True)\n",
              "          )\n",
              "          (output): BertOutput(\n",
              "            (dense): Linear(in_features=3072, out_features=768, bias=True)\n",
              "            (LayerNorm): LayerNorm((768,), eps=1e-12, elementwise_affine=True)\n",
              "            (dropout): Dropout(p=0.1, inplace=False)\n",
              "          )\n",
              "        )\n",
              "      )\n",
              "    )\n",
              "    (pooler): BertPooler(\n",
              "      (dense): Linear(in_features=768, out_features=768, bias=True)\n",
              "      (activation): Tanh()\n",
              "    )\n",
              "  )\n",
              "  (cls): BertOnlyNSPHead(\n",
              "    (seq_relationship): Linear(in_features=768, out_features=2, bias=True)\n",
              "  )\n",
              ")"
            ]
          },
          "metadata": {
            "tags": []
          },
          "execution_count": 38
        }
      ]
    },
    {
      "cell_type": "code",
      "metadata": {
        "id": "QxSMw0FrptiL",
        "colab_type": "code",
        "colab": {}
      },
      "source": [
        "\n",
        "param_optimizer = list(model.named_parameters())\n",
        "no_decay = ['bias', 'gamma', 'beta']\n",
        "optimizer_grouped_parameters = [\n",
        "    {'params': [p for n, p in param_optimizer if not any(nd in n for nd in no_decay)],\n",
        "     'weight_decay_rate': 0.01},\n",
        "    {'params': [p for n, p in param_optimizer if any(nd in n for nd in no_decay)],\n",
        "     'weight_decay_rate': 0.0}\n",
        "]\n",
        "\n"
      ],
      "execution_count": 0,
      "outputs": []
    },
    {
      "cell_type": "code",
      "metadata": {
        "id": "GLs72DuMODJO",
        "colab_type": "code",
        "colab": {}
      },
      "source": [
        "# This variable contains all of the hyperparemeter information our training loop needs\n",
        "optimizer = AdamW(optimizer_grouped_parameters,\n",
        "                     lr=2e-5)"
      ],
      "execution_count": 0,
      "outputs": []
    },
    {
      "cell_type": "code",
      "metadata": {
        "id": "6J-FYdx6nFE_",
        "colab_type": "code",
        "outputId": "530a04e1-a616-4ca2-d3d7-5d0d1e4d8c1a",
        "colab": {
          "base_uri": "https://localhost:8080/",
          "height": 204
        }
      },
      "source": [
        "# Store our loss and accuracy for plotting\n",
        "train_loss_set = []\n",
        "batch_size = 32\n",
        "# Number of training epochs (authors recommend between 2 and 4)\n",
        "epochs = 10\n",
        "\n",
        "# trange is a tqdm wrapper around the normal python range\n",
        "for _ in trange(epochs, desc=\"Epoch\"):\n",
        "  \n",
        "  \n",
        "  # Training\n",
        "  \n",
        "  # Set our model to training mode (as opposed to evaluation mode)\n",
        "  model.train()\n",
        "  \n",
        "  # Tracking variables\n",
        "  tr_loss = 0\n",
        "  nb_tr_examples, nb_tr_steps = 0, 0\n",
        "  \n",
        "  # Train the data for one epoch\n",
        "  for step, batch in enumerate(train_dataloader):\n",
        "    # Add batch to GPU\n",
        "    \n",
        "    batch = tuple(t.to(device) for t in batch)\n",
        "    # Unpack the inputs from our dataloader\n",
        "   \n",
        "    b_input_ids, b_input_mask,b_seg_mask, b_labels = batch\n",
        "    # Clear out the gradients (by default they accumulate)\n",
        "    optimizer.zero_grad()\n",
        "    inputs = {'input_ids':       batch[0],\n",
        "                      'attention_mask':  batch[1],\n",
        "                      'token_type_ids': b_seg_mask,\n",
        "                      'next_sentence_label':   batch[3]}\n",
        "    # Forward pass\n",
        "    loss = model(b_input_ids, token_type_ids=b_seg_mask, attention_mask=b_input_mask,next_sentence_label=b_labels)\n",
        "    #loss= model(**inputs)\n",
        "    loss=loss[0]\n",
        "    train_loss_set.append(loss.item())    \n",
        "    # Backward pass\n",
        "    loss.backward()\n",
        "    # Update parameters and take a step using the computed gradient\n",
        "    optimizer.step()\n",
        "    \n",
        "    \n",
        "    # Update tracking variables\n",
        "    tr_loss += loss.item()\n",
        "    nb_tr_examples += b_input_ids.size(0)\n",
        "    nb_tr_steps += 1\n",
        "\n",
        "  print(\"Train loss: {}\".format(tr_loss/nb_tr_steps))\n",
        "    \n",
        "    \n",
        "  "
      ],
      "execution_count": 44,
      "outputs": [
        {
          "output_type": "stream",
          "text": [
            "Epoch:  10%|█         | 1/10 [02:23<21:27, 143.08s/it]"
          ],
          "name": "stderr"
        },
        {
          "output_type": "stream",
          "text": [
            "Train loss: 0.10030192472392095\n"
          ],
          "name": "stdout"
        },
        {
          "output_type": "stream",
          "text": [
            "\rEpoch:  20%|██        | 2/10 [04:45<19:03, 142.89s/it]"
          ],
          "name": "stderr"
        },
        {
          "output_type": "stream",
          "text": [
            "Train loss: 0.059095748853957596\n"
          ],
          "name": "stdout"
        },
        {
          "output_type": "stream",
          "text": [
            "\rEpoch:  30%|███       | 3/10 [07:08<16:40, 142.87s/it]"
          ],
          "name": "stderr"
        },
        {
          "output_type": "stream",
          "text": [
            "Train loss: 0.049359127334406915\n"
          ],
          "name": "stdout"
        },
        {
          "output_type": "stream",
          "text": [
            "\rEpoch:  40%|████      | 4/10 [09:30<14:16, 142.72s/it]"
          ],
          "name": "stderr"
        },
        {
          "output_type": "stream",
          "text": [
            "Train loss: 0.04265989594266943\n"
          ],
          "name": "stdout"
        },
        {
          "output_type": "stream",
          "text": [
            "\rEpoch:  50%|█████     | 5/10 [11:53<11:53, 142.75s/it]"
          ],
          "name": "stderr"
        },
        {
          "output_type": "stream",
          "text": [
            "Train loss: 0.03173622350265571\n"
          ],
          "name": "stdout"
        },
        {
          "output_type": "stream",
          "text": [
            "\rEpoch:  60%|██████    | 6/10 [14:15<09:30, 142.63s/it]"
          ],
          "name": "stderr"
        },
        {
          "output_type": "stream",
          "text": [
            "Train loss: 0.023533429910938413\n"
          ],
          "name": "stdout"
        },
        {
          "output_type": "stream",
          "text": [
            "\rEpoch:  70%|███████   | 7/10 [16:38<07:08, 142.69s/it]"
          ],
          "name": "stderr"
        },
        {
          "output_type": "stream",
          "text": [
            "Train loss: 0.033980281487599295\n"
          ],
          "name": "stdout"
        },
        {
          "output_type": "stream",
          "text": [
            "\rEpoch:  80%|████████  | 8/10 [19:01<04:45, 142.61s/it]"
          ],
          "name": "stderr"
        },
        {
          "output_type": "stream",
          "text": [
            "Train loss: 0.023672915713967017\n"
          ],
          "name": "stdout"
        },
        {
          "output_type": "stream",
          "text": [
            "\rEpoch:  90%|█████████ | 9/10 [21:24<02:22, 142.69s/it]"
          ],
          "name": "stderr"
        },
        {
          "output_type": "stream",
          "text": [
            "Train loss: 0.023846330911905137\n"
          ],
          "name": "stdout"
        },
        {
          "output_type": "stream",
          "text": [
            "\rEpoch: 100%|██████████| 10/10 [23:46<00:00, 142.60s/it]"
          ],
          "name": "stderr"
        },
        {
          "output_type": "stream",
          "text": [
            "Train loss: 0.016073860798366334\n"
          ],
          "name": "stdout"
        },
        {
          "output_type": "stream",
          "text": [
            "\n"
          ],
          "name": "stderr"
        }
      ]
    },
    {
      "cell_type": "code",
      "metadata": {
        "id": "9cQNvaZ9bnyy",
        "colab_type": "code",
        "colab": {}
      },
      "source": [
        "# Function to calculate the accuracy of our predictions vs labels\n",
        "def flat_accuracy(preds, labels):\n",
        "    pred_flat = np.argmax(preds, axis=1).flatten()\n",
        "    labels_flat = labels.flatten()\n",
        "    print(list(zip(pred_flat , labels_flat)))\n",
        "    return np.sum(pred_flat == labels_flat) / len(labels_flat)"
      ],
      "execution_count": 0,
      "outputs": []
    },
    {
      "cell_type": "code",
      "metadata": {
        "id": "PCYjlf3h2TJV",
        "colab_type": "code",
        "colab": {
          "base_uri": "https://localhost:8080/",
          "height": 231
        },
        "outputId": "84cb7cc2-691c-405d-b5cd-d9337c719354"
      },
      "source": [
        "# Validation\n",
        "\n",
        "  # Put model in evaluation mode to evaluate loss on the validation set\n",
        "  model.eval()\n",
        "\n",
        "  # Tracking variables \n",
        "  eval_loss, eval_accuracy = 0, 0\n",
        "  nb_eval_steps, nb_eval_examples = 0, 0\n",
        "\n",
        "  # Evaluate data for one epoch\n",
        "  for batch in validation_dataloader:\n",
        "    # Add batch to GPU\n",
        "    batch = tuple(t.to(device) for t in batch)\n",
        "    # Unpack the inputs from our dataloader\n",
        "    b_input_ids, b_input_mask,b_seg_mask, b_labels = batch\n",
        "    # Telling the model not to compute or store gradients, saving memory and speeding up validation\n",
        "    with torch.no_grad():\n",
        "      # Forward pass, calculate logit predictions\n",
        "      output = model(b_input_ids, token_type_ids=b_seg_mask, attention_mask=b_input_mask,next_sentence_label=b_labels)\n",
        "      logits=output[1]\n",
        "    # Move logits and labels to CPU\n",
        "    hidden_states=output[2].detach().cpu().numpy()\n",
        "    print(hidden_states.shape)\n",
        "    logits = logits.detach().cpu().numpy()\n",
        "    label_ids = b_labels.to('cpu').numpy()\n",
        "\n",
        "    tmp_eval_accuracy = flat_accuracy(logits, label_ids)\n",
        "    \n",
        "    eval_accuracy += tmp_eval_accuracy\n",
        "    nb_eval_steps += 1\n",
        "\n",
        "  print(\"Validation Accuracy: {}\".format(eval_accuracy/nb_eval_steps))"
      ],
      "execution_count": 59,
      "outputs": [
        {
          "output_type": "error",
          "ename": "IndexError",
          "evalue": "ignored",
          "traceback": [
            "\u001b[0;31m---------------------------------------------------------------------------\u001b[0m",
            "\u001b[0;31mIndexError\u001b[0m                                Traceback (most recent call last)",
            "\u001b[0;32m<ipython-input-59-3476b1a36430>\u001b[0m in \u001b[0;36m<module>\u001b[0;34m()\u001b[0m\n\u001b[1;32m     17\u001b[0m     \u001b[0mlogits\u001b[0m\u001b[0;34m=\u001b[0m\u001b[0moutput\u001b[0m\u001b[0;34m[\u001b[0m\u001b[0;36m1\u001b[0m\u001b[0;34m]\u001b[0m\u001b[0;34m\u001b[0m\u001b[0;34m\u001b[0m\u001b[0m\n\u001b[1;32m     18\u001b[0m   \u001b[0;31m# Move logits and labels to CPU\u001b[0m\u001b[0;34m\u001b[0m\u001b[0;34m\u001b[0m\u001b[0;34m\u001b[0m\u001b[0m\n\u001b[0;32m---> 19\u001b[0;31m   \u001b[0mhidden_states\u001b[0m\u001b[0;34m=\u001b[0m\u001b[0moutput\u001b[0m\u001b[0;34m[\u001b[0m\u001b[0;36m2\u001b[0m\u001b[0;34m]\u001b[0m\u001b[0;34m.\u001b[0m\u001b[0mdetach\u001b[0m\u001b[0;34m(\u001b[0m\u001b[0;34m)\u001b[0m\u001b[0;34m.\u001b[0m\u001b[0mcpu\u001b[0m\u001b[0;34m(\u001b[0m\u001b[0;34m)\u001b[0m\u001b[0;34m.\u001b[0m\u001b[0mnumpy\u001b[0m\u001b[0;34m(\u001b[0m\u001b[0;34m)\u001b[0m\u001b[0;34m\u001b[0m\u001b[0;34m\u001b[0m\u001b[0m\n\u001b[0m\u001b[1;32m     20\u001b[0m   \u001b[0mprint\u001b[0m\u001b[0;34m(\u001b[0m\u001b[0mhidden_states\u001b[0m\u001b[0;34m.\u001b[0m\u001b[0mshape\u001b[0m\u001b[0;34m)\u001b[0m\u001b[0;34m\u001b[0m\u001b[0;34m\u001b[0m\u001b[0m\n\u001b[1;32m     21\u001b[0m   \u001b[0mlogits\u001b[0m \u001b[0;34m=\u001b[0m \u001b[0mlogits\u001b[0m\u001b[0;34m.\u001b[0m\u001b[0mdetach\u001b[0m\u001b[0;34m(\u001b[0m\u001b[0;34m)\u001b[0m\u001b[0;34m.\u001b[0m\u001b[0mcpu\u001b[0m\u001b[0;34m(\u001b[0m\u001b[0;34m)\u001b[0m\u001b[0;34m.\u001b[0m\u001b[0mnumpy\u001b[0m\u001b[0;34m(\u001b[0m\u001b[0;34m)\u001b[0m\u001b[0;34m\u001b[0m\u001b[0;34m\u001b[0m\u001b[0m\n",
            "\u001b[0;31mIndexError\u001b[0m: tuple index out of range"
          ]
        }
      ]
    },
    {
      "cell_type": "markdown",
      "metadata": {
        "id": "iyRa-5CcHv_g",
        "colab_type": "text"
      },
      "source": [
        "## Training Evaluation"
      ]
    },
    {
      "cell_type": "markdown",
      "metadata": {
        "id": "1-G03mmwH3aI",
        "colab_type": "text"
      },
      "source": [
        "Let's take a look at our training loss over all batches:"
      ]
    },
    {
      "cell_type": "code",
      "metadata": {
        "id": "68xreA9JAmG5",
        "colab_type": "code",
        "outputId": "699dbd99-f999-48a0-8ad6-f3d7245d8a0d",
        "colab": {
          "base_uri": "https://localhost:8080/",
          "height": 513
        }
      },
      "source": [
        "plt.figure(figsize=(15,8))\n",
        "plt.title(\"Training loss\")\n",
        "plt.xlabel(\"Batch\")\n",
        "plt.ylabel(\"Loss\")\n",
        "plt.plot(train_loss_set)\n",
        "plt.show()"
      ],
      "execution_count": 56,
      "outputs": [
        {
          "output_type": "display_data",
          "data": {
            "image/png": "[encoded data removed]",
            "text/plain": [
              "<Figure size 1080x576 with 1 Axes>"
            ]
          },
          "metadata": {
            "tags": []
          }
        }
      ]
    }
  ]
}